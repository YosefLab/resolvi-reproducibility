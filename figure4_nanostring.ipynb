{
 "cells": [
  {
   "cell_type": "code",
   "execution_count": null,
   "id": "8256ad61-b10b-45e8-af56-822ef432c141",
   "metadata": {},
   "outputs": [],
   "source": [
    "import sys\n",
    "sys.path.insert(0,'/home/cane/Documents/yoseflab/can/resolVI')\n",
    "from scvi.external import RESOLVI"
   ]
  },
  {
   "cell_type": "code",
   "execution_count": null,
   "id": "9321c37a-5693-4030-a8ae-51c30b644291",
   "metadata": {},
   "outputs": [],
   "source": [
    "import scanpy as sc\n",
    "import pandas as pd\n",
    "import numpy as np\n",
    "import scvi\n",
    "import matplotlib.pyplot as plt\n",
    "import seaborn as sns"
   ]
  },
  {
   "cell_type": "code",
   "execution_count": null,
   "id": "f0d20721-911f-40d0-9afd-42a9085c6cad",
   "metadata": {},
   "outputs": [],
   "source": [
    "scvi.settings.seed = 0\n",
    "sc.set_figure_params(dpi=100, dpi_save=300, format='png', frameon=False, vector_friendly=True, fontsize=14, color_map='viridis', figsize=(8,8))\n",
    "sc.settings.figdir = 'figure3/'"
   ]
  },
  {
   "cell_type": "code",
   "execution_count": null,
   "id": "9b94e6e1-06e8-47cf-bcf7-cb74c6e03dd5",
   "metadata": {},
   "outputs": [],
   "source": [
    "sys.path.append('..')\n",
    "import _utils"
   ]
  },
  {
   "cell_type": "code",
   "execution_count": null,
   "id": "d12415ad-9596-4cf1-88c2-d1ac1d3b2dc0",
   "metadata": {},
   "outputs": [],
   "source": [
    "path = '/external_data/other/resolvi_final_other_files/'"
   ]
  },
  {
   "cell_type": "markdown",
   "id": "e22c9e6a-4413-4fd1-9a7f-f10b67821eb1",
   "metadata": {
    "tags": []
   },
   "source": [
    "## Subsetting and spatial"
   ]
  },
  {
   "cell_type": "code",
   "execution_count": null,
   "id": "a7133654-71a5-471a-b9b6-41b9e6a9dc08",
   "metadata": {
    "jupyter": {
     "outputs_hidden": true
    },
    "tags": []
   },
   "outputs": [],
   "source": [
    "resolvi = RESOLVI.load('/external_data/other/resolvi_final_other_files/liver_nanostring/baysor_newest_bg_semisupervised/resolvae')"
   ]
  },
  {
   "cell_type": "code",
   "execution_count": null,
   "id": "35edb698-a839-49bf-8b94-fce833e6da3f",
   "metadata": {},
   "outputs": [],
   "source": [
    "nanostring = {}\n",
    "nanostring['baysor'] = sc.read_h5ad(f'{path}liver_nanostring/baysor_newest_bg/complete_adata.h5ad')\n",
    "nanostring['baysor'].obsm['resolvi_semisupervised'] = sc.read_h5ad(f'{path}liver_nanostring/baysor_newest_bg_semisupervised/complete_adata.h5ad').obsm['X_resolVI']"
   ]
  },
  {
   "cell_type": "code",
   "execution_count": null,
   "id": "36584705-267e-4dc2-95ba-4d365fa6b1b1",
   "metadata": {
    "tags": []
   },
   "outputs": [],
   "source": [
    "nanostring['proseg'] = sc.read_h5ad(f'{path}liver_nanostring/proseg_newest_bg/complete_adata.h5ad')\n",
    "nanostring['proseg'].obsm['resolvi_semisupervised'] = sc.read_h5ad(f'{path}liver_nanostring/proseg_newest_bg_semisupervised/complete_adata.h5ad').obsm['X_resolVI']\n",
    "nanostring['original'] = sc.read_h5ad(f'{path}liver_nanostring/original_newest_bg/complete_adata.h5ad')\n",
    "nanostring['original'].obsm['resolvi_semisupervised'] = sc.read_h5ad(f'{path}liver_nanostring/original_newest_bg_semisupervised/complete_adata.h5ad').obsm['X_resolVI']"
   ]
  },
  {
   "cell_type": "code",
   "execution_count": null,
   "id": "ddf3d89b-ebbb-4b4a-83be-e3d70ec48975",
   "metadata": {},
   "outputs": [],
   "source": [
    "sub = nanostring['baysor'][nanostring['baysor'].obs['health']=='normal']"
   ]
  },
  {
   "cell_type": "code",
   "execution_count": null,
   "id": "635c504b-742f-42e6-b5ba-fcca61d74aa8",
   "metadata": {
    "tags": []
   },
   "outputs": [],
   "source": [
    "sc.pp.normalize_total(sub, layers=['generated_expression', 'raw_counts', 'corrected_counts', 'generated_expression_mean'])"
   ]
  },
  {
   "cell_type": "code",
   "execution_count": null,
   "id": "57d86408-5696-4d87-9028-a42d73685e7a",
   "metadata": {
    "tags": []
   },
   "outputs": [],
   "source": [
    "import matplotlib.pyplot as plt\n",
    "import matplotlib.gridspec as gridspec\n",
    "import numpy as np\n",
    "import matplotlib.colors as mcolors\n",
    "import scanpy as sc\n",
    "\n",
    "def plot_umap_genes(adata, genes, colors, layer='generated_expression', plt_axis=\"off\", extra=''):\n",
    "    # Extract and normalize the expression levels of the specified genes\n",
    "    normalized_expressions = []\n",
    "    expr_min_max = []\n",
    "    for gene in genes:\n",
    "        expr = adata[:, gene].layers[layer].A\n",
    "        min_val, max_val = np.min(expr), np.quantile(expr, 0.999) + 1e-3\n",
    "        normalized_expr = np.clip((expr - min_val) / (max_val - min_val), 0, 1)\n",
    "        normalized_expressions.append(normalized_expr)\n",
    "        expr_min_max.append((min_val, max_val))\n",
    "\n",
    "    # Compute RGB values and alpha for each cell based on gene expressions\n",
    "    alphas = np.any([expr > 0 for expr in normalized_expressions], axis=0) * 1.0  # Alpha is 1 if any expression is non-zero\n",
    "    rgb_colors = np.stack([\n",
    "        normalized_expr.reshape(-1, 1) * np.array(color)\n",
    "        for normalized_expr, color in zip(normalized_expressions, colors)\n",
    "    ]).sum(axis=0)\n",
    "    order = np.argsort(rgb_colors.sum(axis=1))\n",
    "    rgb_colors = np.hstack([rgb_colors, alphas.reshape(-1, 1)])  # Append alpha as the fourth channel\n",
    "\n",
    "    # Create plot using GridSpec for layout\n",
    "    plt.figure(figsize=(22, 12))\n",
    "    gs = gridspec.GridSpec(1, 4, width_ratios=[10, 1, 1, 1], wspace=0.3)\n",
    "    ax_main = plt.subplot(gs[0, 0])\n",
    "    \n",
    "    plt.gcf().patch.set_facecolor('black')  # Set the figure background to white\n",
    "    ax_main.set_facecolor('black')  # Set the scatter plot background to black\n",
    "    \n",
    "    # Configure axes and ticks for visibility against a black background\n",
    "    ax_main.tick_params(axis='both', colors='white')  # Ensure ticks are visible\n",
    "    ax_main.spines['top'].set_color('white')\n",
    "    ax_main.spines['bottom'].set_color('white')\n",
    "    ax_main.spines['left'].set_color('white')\n",
    "    ax_main.spines['right'].set_color('white')\n",
    "    \n",
    "    # Scatter plot of UMAP coordinates colored by the gene expression mixture\n",
    "    ax_main.scatter(adata.obsm['X_spatial'][:, 0][order], -adata.obsm['X_spatial'][:, 1][order], color=rgb_colors[order, :], s=1)\n",
    "    \n",
    "    # Optionally turn off the axis\n",
    "    if plt_axis == \"off\":\n",
    "        ax_main.axis('off')\n",
    "    \n",
    "    # Add color bars for each gene with white backgrounds\n",
    "    for i, (gene, color) in enumerate(zip(genes, colors)):\n",
    "        ax_colorbar = plt.subplot(gs[0, 1+i])\n",
    "        cmap = mcolors.LinearSegmentedColormap.from_list(\"custom\", [np.zeros(3), color], N=100)\n",
    "        norm = mcolors.Normalize(vmin=expr_min_max[i][0], vmax=expr_min_max[i][1])\n",
    "        cb = plt.colorbar(plt.cm.ScalarMappable(norm=norm, cmap=cmap), cax=ax_colorbar)\n",
    "        cb.set_label(gene)\n",
    "    plt.savefig(f'figure3/coexpression_cholangiocytes_{layer}_new.pdf', facecolor=plt.gcf().get_facecolor())\n",
    "    plt.show()\n",
    "\n",
    "plot_umap_genes(sub, ['ANXA4', 'EPCAM', 'FLT1'], colors=[[0, 0, 1], [1, 0, 0], [0, 1, 0]], plt_axis=\"off\")"
   ]
  },
  {
   "cell_type": "code",
   "execution_count": null,
   "id": "e82bf9ba-9d92-43c1-b62a-2b40d4024e3a",
   "metadata": {
    "tags": []
   },
   "outputs": [],
   "source": [
    "plot_umap_genes(sub, ['ANXA4', 'EPCAM', 'FLT1'], colors=[[0, 0, 1], [1, 0, 0], [0, 1, 0]], plt_axis=\"off\", layer='raw_counts')"
   ]
  },
  {
   "cell_type": "code",
   "execution_count": null,
   "id": "6694e88e-38f9-49b8-a09b-f882c88fbbad",
   "metadata": {},
   "outputs": [],
   "source": [
    "sc.pl.spatial(sub[sub.obs['health']=='normal'], color=['cluster'], spot_size=0.03, save='celltypes_spatial.pdf')"
   ]
  },
  {
   "cell_type": "code",
   "execution_count": null,
   "id": "43ea52f0-b04f-4bbb-92e8-0fcb17790802",
   "metadata": {},
   "outputs": [],
   "source": [
    "sub.obs['zonation_raw'] = (\n",
    "    sub[:, 'SAA1'].layers['raw_counts'].A/np.mean(sub[:, 'SAA1'].layers['raw_counts'].A) -\n",
    "    sub[:, 'GLUL'].layers['raw_counts'].A/np.mean(sub[:, 'SAA1'].layers['raw_counts'].A)\n",
    ")\n",
    "sc.pl.spatial(sub[sub.obs['health']=='normal'], color=['zonation_raw'], spot_size=0.03, cmap='bwr', vmax=5, vmin=-5,\n",
    "              save='celltype_spatial_raw_generated_zonation.pdf', sort_order=False)"
   ]
  },
  {
   "cell_type": "code",
   "execution_count": null,
   "id": "ace73989-faaa-4418-a727-498a0dc9cd64",
   "metadata": {},
   "outputs": [],
   "source": [
    "sub.obs['zonation'] = (\n",
    "    sub[:, 'SAA1'].layers['generated_expression'].A/np.mean(sub[:, 'SAA1'].layers['generated_expression'].A) -\n",
    "    sub[:, 'GLUL'].layers['generated_expression'].A/np.mean(sub[:, 'SAA1'].layers['generated_expression'].A)\n",
    ")\n",
    "sc.pl.spatial(sub[sub.obs['health']=='normal'], color=['zonation'], spot_size=0.03, cmap='bwr', vmax=5, vmin=-5,\n",
    "              save='celltype_spatial_generated_zonation.pdf', sort_order=False)"
   ]
  },
  {
   "cell_type": "code",
   "execution_count": null,
   "id": "29c37496-9d21-49c4-811a-b03ea90cc84a",
   "metadata": {},
   "outputs": [],
   "source": [
    "sub.obs['corrected_cholangiocyte'] = sub[:, ['ANXA4', 'EPCAM', 'SOX9']].layers['generated_expression'].sum(1)\n",
    "sub.obs['raw_cholangiocyte'] = sub[:, ['ANXA4', 'EPCAM', 'SOX9']].layers['counts'].sum(1)\n",
    "sc.pl.spatial(sub[sub.obs['health']=='normal'], color=['raw_cholangiocyte', 'corrected_cholangiocyte'], spot_size=0.03,\n",
    "              save='celltype_spatial_raw_generated_cholangiocyte.pdf', vmax=3.)"
   ]
  },
  {
   "cell_type": "code",
   "execution_count": null,
   "id": "192e5e30-7bae-461d-bbea-bf9e0655d522",
   "metadata": {},
   "outputs": [],
   "source": [
    "sc.pl.dotplot(\n",
    "    sub[sub.obs['health']=='normal'], var_names=['raw_cholangiocyte', 'corrected_cholangiocyte'], groupby='cluster', swap_axes=True, save='healthy_cholangiocyte_scores.pdf')"
   ]
  },
  {
   "cell_type": "code",
   "execution_count": null,
   "id": "cf6fb570-0e33-4b2f-9799-021b9f080853",
   "metadata": {},
   "outputs": [],
   "source": [
    "sub.obs['coarse_celltypes'] = [i if i in ['Cholangiocytes', 'Central.venous.LSECs', 'Periportal.LSECs'] else None for i in sub.obs['cluster']]"
   ]
  },
  {
   "cell_type": "code",
   "execution_count": null,
   "id": "5d47e980-5fdb-4e21-a2fb-a1b48d13a824",
   "metadata": {},
   "outputs": [],
   "source": [
    "sc.pl.spatial(sub, color='coarse_celltypes', spot_size=0.03, groups=[\n",
    "    'Cholangiocytes', 'Central.venous.LSECs', 'Periportal.LSECs', 'Portal.endothelial.cells'], save='lsec_cholangiocyte.pdf')"
   ]
  },
  {
   "cell_type": "code",
   "execution_count": null,
   "id": "05d5d9b2-5723-4270-8afa-5eddcfd2f6f8",
   "metadata": {},
   "outputs": [],
   "source": [
    "ax = sc.pl.scatter(\n",
    "    sub[sub.obs['coarse_celltypes'].isin(['Cholangiocytes', 'Central.venous.LSECs', 'Periportal.LSECs'])],\n",
    "    x='VWF', y='EPCAM', layers='generated_expression', use_raw=False, size=200, color='coarse_celltypes', show=False,\n",
    "    groups=['Cholangiocytes', 'Central.venous.LSECs', 'Periportal.LSECs'])\n",
    "ax.set_xlim(-0.3, 10)\n",
    "ax.set_ylim(-1, 30)\n",
    "plt.savefig('figure3/scatterepcam_vwf_generated_dp.pdf')\n",
    "plt.show()"
   ]
  },
  {
   "cell_type": "code",
   "execution_count": null,
   "id": "348e5df2-22b3-42ba-87b1-764a45921f7a",
   "metadata": {},
   "outputs": [],
   "source": [
    "ax = sc.pl.scatter(\n",
    "    sub[sub.obs['coarse_celltypes'].isin(['Cholangiocytes', 'Central.venous.LSECs', 'Periportal.LSECs'])],\n",
    "    x='VWF', y='EPCAM', layers='raw_counts', use_raw=False, size=200, color='coarse_celltypes', show=False,\n",
    "    groups=['Cholangiocytes', 'Central.venous.LSECs', 'Periportal.LSECs'])\n",
    "ax.set_xlim(-0.3, 10)\n",
    "ax.set_ylim(-1, 30)\n",
    "plt.savefig('figure3/scatterepcam_vwf_raw_dp.pdf')\n",
    "plt.show()"
   ]
  },
  {
   "cell_type": "markdown",
   "id": "d88535d8-ea7a-4d8f-aa9d-f579556f8c11",
   "metadata": {
    "tags": []
   },
   "source": [
    "## UMAP all"
   ]
  },
  {
   "cell_type": "code",
   "execution_count": null,
   "id": "daf26464-61c3-4871-af65-7ad2aa443ec1",
   "metadata": {},
   "outputs": [],
   "source": [
    "import os"
   ]
  },
  {
   "cell_type": "code",
   "execution_count": null,
   "id": "122547c3-58f9-425d-92ca-37bda5f2f743",
   "metadata": {},
   "outputs": [],
   "source": [
    "for key in nanostring:\n",
    "    nanostring[key].obs['total_counts'] = nanostring[key].layers['raw_counts'].sum(1)"
   ]
  },
  {
   "cell_type": "code",
   "execution_count": null,
   "id": "ac8f4f79-9ded-4e1c-bc55-98f518c01e37",
   "metadata": {
    "tags": []
   },
   "outputs": [],
   "source": [
    "for key in nanostring:\n",
    "    if os.path.exists(f'{path}liver_nanostring/baysor_newest_bg/complete_adata_filtered.h5ad'):\n",
    "        nanostring[key] = sc.read_h5ad(f'{path}liver_nanostring/{key}_newest_bg/complete_adata_filtered.h5ad')\n",
    "        continue\n",
    "    print(key)\n",
    "    sc.pp.filter_cells(nanostring[key], min_genes=10)\n",
    "    _utils.compute_umap_embedding(nanostring[key], representation_key=\"X_resolVI\", n_comps=None, show=True, key='resolvi_latent', extra_save=key)\n",
    "    _utils.compute_umap_embedding(nanostring[key], representation_key=\"resolvi_semisupervised\", n_comps=None, show=True, key='resolvi_semisupervised', extra_save=key)\n",
    "    _utils.compute_umap_embedding(nanostring[key], representation_key=\"raw_counts\", show=True, key='raw_counts', extra_save=key)\n",
    "    _utils.compute_umap_embedding(nanostring[key], representation_key=\"raw_counts\", show=True, key='raw_counts_harmony', extra_save=key, batch_key='fov_batch')\n",
    "    _utils.compute_umap_embedding(nanostring[key], representation_key=\"generated_expression\", show=True, key='resolvi_generated', extra_save=key)\n",
    "    _utils.compute_umap_embedding(nanostring[key], representation_key=\"corrected_counts\", show=True, key='resolvi_corrected', n_neighbors=30, extra_save=key)\n",
    "    nanostring[key].write_h5ad(f'{path}liver_nanostring/{key}_newest_bg/complete_adata_filtered.h5ad')"
   ]
  },
  {
   "cell_type": "code",
   "execution_count": null,
   "id": "c3be3873-aff1-4868-8a2c-8a2ccc0437ce",
   "metadata": {},
   "outputs": [],
   "source": [
    "pd.options.display.max_rows=300"
   ]
  },
  {
   "cell_type": "code",
   "execution_count": null,
   "id": "03938606-63bc-4e99-8964-c157878447db",
   "metadata": {},
   "outputs": [],
   "source": [
    "def plot_umap_embedding(adata, key, ax, color='cluster'):\n",
    "    adata.obsm['X_umap'] = adata.obsm[f'X_umap_{key}']\n",
    "    sc.pl.umap(adata, color=color, frameon=False, show=False, ax=ax)"
   ]
  },
  {
   "cell_type": "code",
   "execution_count": null,
   "id": "2baafb60-17c9-4de0-807d-3cba62f769f1",
   "metadata": {},
   "outputs": [],
   "source": [
    "nanostring['original'].obs['health'] = nanostring['original'].obs['Run_Tissue_name'].map({'CancerousLiver': 'cancer', 'NormalLiver': 'normal'})"
   ]
  },
  {
   "cell_type": "code",
   "execution_count": null,
   "id": "bca861a9-0aa2-4a26-b2ec-d0b021c4aa76",
   "metadata": {
    "tags": []
   },
   "outputs": [],
   "source": [
    "fig, axs = plt.subplots(3, 8, figsize=(45, 25))\n",
    "\n",
    "# Iterate over each AnnData object and each axis\n",
    "for ind, key in enumerate(nanostring):\n",
    "    print(key)\n",
    "    plot_umap_embedding(nanostring[key], key='resolvi_latent', ax=axs[ind, 0])\n",
    "    axs[ind, 0].get_legend().remove()\n",
    "    plot_umap_embedding(nanostring[key], key='resolvi_latent', ax=axs[ind, 1], color='health')\n",
    "    plot_umap_embedding(nanostring[key], key='resolvi_semisupervised', ax=axs[ind, 2])\n",
    "    axs[ind, 1].get_legend().remove()\n",
    "    plot_umap_embedding(nanostring[key], key='resolvi_semisupervised', ax=axs[ind, 3], color='health')\n",
    "    axs[ind, 2].get_legend().remove()\n",
    "    plot_umap_embedding(nanostring[key], key='raw_counts', ax=axs[ind, 4])\n",
    "    axs[ind, 3].get_legend().remove()\n",
    "    plot_umap_embedding(nanostring[key], key='raw_counts', ax=axs[ind, 5], color='health')\n",
    "    axs[ind, 4].get_legend().remove()\n",
    "    plot_umap_embedding(nanostring[key], key='raw_counts_harmony', ax=axs[ind, 6])\n",
    "    plot_umap_embedding(nanostring[key], key='raw_counts_harmony', ax=axs[ind, 7], color='health')\n",
    "\n",
    "# Adjust layout\n",
    "plt.tight_layout()\n",
    "plt.savefig('figure3/umap_comparison.pdf')\n",
    "plt.show()\n"
   ]
  },
  {
   "cell_type": "code",
   "execution_count": null,
   "id": "1a4a373d-0165-4932-b554-d6a3f98925b3",
   "metadata": {
    "tags": []
   },
   "outputs": [],
   "source": [
    "for key in nanostring:\n",
    "    sc.pl.violin(nanostring[key], groupby='cluster', keys=['background_proportion'], rotation=90, save=f'per_ct_background_{key}.pdf')\n",
    "    sc.pl.violin(nanostring[key], groupby='cluster', keys=['diffusion_proportion'], rotation=90, save=f'per_ct_diffusion_{key}.pdf')"
   ]
  },
  {
   "cell_type": "code",
   "execution_count": null,
   "id": "5d4feafc-eb9b-451e-9107-4649126de8fe",
   "metadata": {
    "tags": []
   },
   "outputs": [],
   "source": [
    "from scib_metrics.benchmark._core import BatchCorrection\n",
    "\n",
    "batch_correction = BatchCorrection(\n",
    "    silhouette_batch=True,\n",
    "    ilisi_knn=True,\n",
    "    kbet_per_label=True,\n",
    "    graph_connectivity=True,\n",
    "    pcr_comparison=False,\n",
    ")\n",
    "\n",
    "from contextlib import contextmanager\n",
    "from scib_metrics.benchmark import Benchmarker\n",
    "\n",
    "@contextmanager\n",
    "def default_rcparams():\n",
    "    default_params = plt.rcParams.copy()  # Store current rcParams\n",
    "    plt.rcdefaults()   # Reset all rcParams to their defaults\n",
    "    yield\n",
    "    plt.rcParams.update(default_params)   # Restore rcParams to their original values\n",
    "\n",
    "for key in nanostring:\n",
    "    #if os.path.exists(f'figure3/scib_results_{key}.csv'):\n",
    "    #    print(key)\n",
    "    #    continue\n",
    "    print(key)\n",
    "    bm = Benchmarker(\n",
    "        nanostring[key],\n",
    "        batch_key=\"health\",\n",
    "        label_key=\"cluster\",\n",
    "        batch_correction_metrics=batch_correction,\n",
    "        embedding_obsm_keys=[\"X_resolVI\", \"X_pca_resolvi_generated\", \"X_pca_raw_counts_harmony\", \"X_pca_raw_counts\", \"X_resolvi_transferred\", \"resolvi_semisupervised\"],\n",
    "        pre_integrated_embedding_obsm_key='X_pca_raw_counts',\n",
    "        n_jobs=12,\n",
    "    )\n",
    "    bm.benchmark()\n",
    "    #os.mkdir(f'figure3_vizgen/{key}/')\n",
    "    with default_rcparams():\n",
    "        bm.plot_results_table(min_max_scale=False, save_dir=f'figure3/{key}/')\n",
    "    \n",
    "    bm.get_results(min_max_scale=False).to_csv(f'figure3/scib_results_{key}.csv')"
   ]
  },
  {
   "cell_type": "markdown",
   "id": "3e9cb511-65af-4c6b-8ec8-6e0aa37586e4",
   "metadata": {
    "tags": []
   },
   "source": [
    "## Tcell"
   ]
  },
  {
   "cell_type": "code",
   "execution_count": null,
   "id": "67952500-b7ac-4b78-9d63-7062c114a0a2",
   "metadata": {},
   "outputs": [],
   "source": [
    "nanostring = {}\n",
    "nanostring['baysor'] = sc.read_h5ad(f'{path}liver_nanostring/baysor_newest_bg_semisupervised/complete_adata.h5ad')"
   ]
  },
  {
   "cell_type": "code",
   "execution_count": null,
   "id": "72fd2aaa-57c4-4e56-9e70-7f62a333eed0",
   "metadata": {},
   "outputs": [],
   "source": [
    "key = 'baysor'\n",
    "nanostring[key].obs['total_counts'] = nanostring[key].X.sum(-1)\n",
    "_utils.compute_umap_embedding(nanostring[key], representation_key=\"X_resolVI\", n_comps=None, show=True, key='resolvi_semisupervised', extra_save=key)\n",
    "_utils.compute_umap_embedding(nanostring[key], representation_key=\"raw_counts\", show=True, key='raw_counts', extra_save=key)"
   ]
  },
  {
   "cell_type": "code",
   "execution_count": null,
   "id": "d17fae9c-f99e-40c0-9bea-81a4fe19f757",
   "metadata": {},
   "outputs": [],
   "source": [
    "subset = nanostring[key]\n",
    "subset.X = subset.layers['raw_counts'].copy()\n",
    "sc.pp.normalize_total(subset)\n",
    "sc.pp.log1p(subset)"
   ]
  },
  {
   "cell_type": "code",
   "execution_count": null,
   "id": "4162571a-479d-4c9c-926e-82e42b83dfa4",
   "metadata": {},
   "outputs": [],
   "source": [
    "subset.obs['true_transcripts'] = subset.obs['true_proportion'] * subset.obs['n_transcripts']"
   ]
  },
  {
   "cell_type": "code",
   "execution_count": null,
   "id": "19e39ffa-cf42-47a3-9564-ce1a946d3f3d",
   "metadata": {},
   "outputs": [],
   "source": [
    "subset = subset[subset.obs['cluster']!='Portal.endothelial.cells']"
   ]
  },
  {
   "cell_type": "code",
   "execution_count": null,
   "id": "7564ba10-7b18-43e8-ac90-59f55d1971cd",
   "metadata": {
    "tags": []
   },
   "outputs": [],
   "source": [
    "sc.tl.rank_genes_groups(subset, groupby='cluster')\n",
    "sc.pl.rank_genes_groups_dotplot(subset, n_genes=3) # categories_order\n",
    "sc.pl.rank_genes_groups_dotplot(subset[subset.obs['true_transcripts'] < 20], n_genes=3, save='marker_genes_low_counts.pdf')\n",
    "sc.pl.rank_genes_groups_dotplot(subset[subset.obs['true_transcripts'] > 20], n_genes=3, save='marker_genes_high_counts.pdf')"
   ]
  },
  {
   "cell_type": "code",
   "execution_count": null,
   "id": "054ab7d9-48bd-4055-964e-aa488ff539a4",
   "metadata": {},
   "outputs": [],
   "source": [
    "subset.obsm['X_umap'] = subset.obsm['X_umap_resolvi_semisupervised']\n",
    "sc.pl.umap(subset[subset.obs['true_transcripts'] > 20], color=['true_transcripts', 'n_transcripts'], vmax=500, save='kept_baysor_counts.pdf')\n",
    "sc.pl.umap(subset[subset.obs['true_transcripts'] < 20], color=['true_transcripts', 'n_transcripts'], vmax=50, save='filtered_out_baysor_counts.pdf')"
   ]
  },
  {
   "cell_type": "code",
   "execution_count": null,
   "id": "82ff8141-7772-490f-9f2e-37b76342d7bd",
   "metadata": {
    "tags": []
   },
   "outputs": [],
   "source": [
    "subset = subset[subset.obs['true_transcripts'] > 20]\n",
    "_utils.compute_umap_embedding(subset, representation_key=\"X_resolVI\", n_comps=None, show=True, key='resolvi_latent', extra_save=key)\n",
    "_utils.compute_umap_embedding(subset, representation_key=\"raw_counts\", show=True, key='raw_counts', extra_save=key)"
   ]
  },
  {
   "cell_type": "code",
   "execution_count": null,
   "id": "efbb3a1c-f5a5-43e8-bb5d-1caf010dfd99",
   "metadata": {},
   "outputs": [],
   "source": [
    "sc.pp.neighbors(subset, use_rep='X_pca', method='rapids')\n",
    "sc.tl.umap(subset, min_dist=0.3)\n",
    "sc.pl.umap(subset, color=[\"cluster\"], ncols=1)\n",
    "subset.obsm['X_tsne'] = subset.obsm['X_umap']\n",
    "subset.obsm['X_umap_pca'] = subset.obsm['X_umap']"
   ]
  },
  {
   "cell_type": "code",
   "execution_count": null,
   "id": "b0144bbc-fc78-4172-855c-0f4b82afd1c4",
   "metadata": {},
   "outputs": [],
   "source": [
    "sc.pp.neighbors(subset, use_rep='X_resolVI', method='rapids')\n",
    "sc.tl.umap(subset, min_dist=0.3)\n",
    "sc.pl.umap(subset, color=[\"cluster\"], ncols=1)\n",
    "subset.obsm['X_umap_resolvi'] = subset.obsm['X_umap']"
   ]
  },
  {
   "cell_type": "code",
   "execution_count": null,
   "id": "a86b2094-d190-44eb-a812-e6a7d28645ef",
   "metadata": {},
   "outputs": [],
   "source": [
    "subset = sc.read_h5ad(f'{path}liver_nanostring/baysor_filtered_lq_all_cells.h5ad')"
   ]
  },
  {
   "cell_type": "code",
   "execution_count": null,
   "id": "ab4117bb-4e97-4452-b78d-d25b123d6a5d",
   "metadata": {},
   "outputs": [],
   "source": [
    "subset2 = subset"
   ]
  },
  {
   "cell_type": "code",
   "execution_count": null,
   "id": "8e8af08c-33dc-49b1-ae2c-2a87a76336b4",
   "metadata": {},
   "outputs": [],
   "source": [
    "sc.pp.neighbors(subset2, use_rep='X_pca', method='rapids')\n",
    "sc.tl.umap(subset2, min_dist=0.3)\n",
    "sc.pl.umap(subset2, color=[\"cluster\", \"health\"], ncols=1, save='liver_nanostring_pca.pdf')\n",
    "subset.obsm['X_umap_raw_counts'] = subset2.obsm['X_umap']"
   ]
  },
  {
   "cell_type": "code",
   "execution_count": null,
   "id": "24a7b2d2-1494-478a-8cfe-87c2d5284119",
   "metadata": {},
   "outputs": [],
   "source": [
    "subset.obsm['X_umap'] = subset.obsm['X_umap_resolvi']"
   ]
  },
  {
   "cell_type": "code",
   "execution_count": null,
   "id": "204bdba1-6b27-4ca0-a961-c32ca7730ee3",
   "metadata": {},
   "outputs": [],
   "source": [
    "sc.pl.umap(subset, color=[\"cluster\", \"health\"], ncols=1, save='umap_liver_nanostring.pdf')"
   ]
  },
  {
   "cell_type": "code",
   "execution_count": null,
   "id": "bb97623e-7a2d-4cd5-bf53-80bec673e248",
   "metadata": {},
   "outputs": [],
   "source": [
    "sc.pl.spatial(subset[subset.obs['health']=='cancer'],\n",
    "              color=['S100A6', 'TGFB1'], spot_size=0.03, vmin=0.01, layer='generated_expression',\n",
    "              vmax=[20, 0.05])\n",
    "sc.pl.spatial(subset[subset.obs['health']=='normal'],\n",
    "              color=['S100A6', 'TGFB1'], spot_size=0.03, vmin=0.01, layer='generated_expression',\n",
    "              vmax=[20, 0.05])"
   ]
  },
  {
   "cell_type": "code",
   "execution_count": null,
   "id": "2b9482a9-54fb-451b-bb4b-7e8a9440823f",
   "metadata": {},
   "outputs": [],
   "source": [
    "subset.write_h5ad(f'{path}liver_nanostring/baysor_filtered_lq_all_cells.h5ad')"
   ]
  },
  {
   "cell_type": "code",
   "execution_count": null,
   "id": "e56c1e03-994c-43bc-b7ad-44cacc278ded",
   "metadata": {},
   "outputs": [],
   "source": [
    "sc.pp.neighbors(subset, use_rep='X_resolvi', n_neighbors=30, method='rapids')\n",
    "sc.tl.louvain(subset, resolution=0.6, flavor='rapids')\n",
    "sc.pl.umap(subset, color='louvain')"
   ]
  },
  {
   "cell_type": "code",
   "execution_count": null,
   "id": "6729ed5d-db3d-4f15-8bc8-2b05102a04d0",
   "metadata": {},
   "outputs": [],
   "source": [
    "tumor_cells = subset[np.logical_and(subset.obs['louvain'].isin(['6', '4', '9', '5', '12']), subset.obs['health']=='cancer')]\n",
    "sc.pl.umap(tumor_cells, color=['louvain'], ncols=10)"
   ]
  },
  {
   "cell_type": "code",
   "execution_count": null,
   "id": "f6ec7f8c-8106-4f6d-a95e-bb55cd0d4b7e",
   "metadata": {},
   "outputs": [],
   "source": [
    "tumor_cells.write_h5ad(f'figure3/tumor_cells.h5ad')"
   ]
  },
  {
   "cell_type": "code",
   "execution_count": null,
   "id": "2339d012-3cc2-41e7-beec-a9767a1aabab",
   "metadata": {},
   "outputs": [],
   "source": [
    "import hotspot"
   ]
  },
  {
   "cell_type": "code",
   "execution_count": null,
   "id": "5914a419-3a85-4005-b55c-24e135a7e894",
   "metadata": {},
   "outputs": [],
   "source": [
    "tumor_cells = sc.read_h5ad(f'figure3/tumor_cells.h5ad')"
   ]
  },
  {
   "cell_type": "code",
   "execution_count": null,
   "id": "c309c93b-c429-47e5-a66b-d517ccada695",
   "metadata": {},
   "outputs": [],
   "source": [
    "tumor_cells_filtered = tumor_cells[:, tumor_cells.layers['generated_expression'].sum(0) > 50]"
   ]
  },
  {
   "cell_type": "code",
   "execution_count": null,
   "id": "fe8991f0-7aa9-4530-8342-db7f579797e4",
   "metadata": {},
   "outputs": [],
   "source": [
    "import hotspot\n",
    "hs2 = hotspot.Hotspot(\n",
    "    tumor_cells_filtered,\n",
    "    layer_key=\"raw_counts\",\n",
    "    model='danb',\n",
    "    latent_obsm_key=\"X_spatial\",\n",
    "    umi_counts_obs_key=\"total_counts\"\n",
    ")\n",
    "hs2.create_knn_graph(weighted_graph=False, n_neighbors=100)\n",
    "hs2_results = hs2.compute_autocorrelations()\n",
    "hs2_genes = hs2_results.loc[hs2_results.C > 0.1].index\n",
    "local_correlations = hs2.compute_local_correlations(hs2_genes, jobs=10)"
   ]
  },
  {
   "cell_type": "code",
   "execution_count": null,
   "id": "78840791-d8cc-4652-a801-f0e56b0e184d",
   "metadata": {},
   "outputs": [],
   "source": [
    "modules = hs2.create_modules(\n",
    "    min_gene_threshold=10, core_only=True, fdr_threshold=1e-3\n",
    ")\n",
    "module_scores = hs2.calculate_module_scores()\n",
    "hs2.plot_local_correlations(vmin=-100, vmax=100)\n",
    "plt.show()"
   ]
  },
  {
   "cell_type": "code",
   "execution_count": null,
   "id": "6fdd3128-f4ab-4666-a7b4-940e9bc2046b",
   "metadata": {},
   "outputs": [],
   "source": [
    "for i in module_scores.columns:\n",
    "    tumor_cells_filtered.obs[f'hotspot_raw_{i}'] = module_scores[i]\n",
    "sc.pl.spatial(tumor_cells_filtered, color=['hotspot_raw_1', f'hotspot_raw_2',  'hotspot_raw_3', 'cluster'], spot_size=0.03, vmax='p98')\n",
    "sc.pl.umap(tumor_cells_filtered, color=['hotspot_raw_1', f'hotspot_raw_2',  'hotspot_raw_3', 'cluster'], vmax='p98')"
   ]
  },
  {
   "cell_type": "code",
   "execution_count": null,
   "id": "88b8731c-58f9-4147-b148-2b3fb4551dad",
   "metadata": {
    "tags": []
   },
   "outputs": [],
   "source": [
    "import hotspot\n",
    "hs = hotspot.Hotspot(\n",
    "    tumor_cells_filtered,\n",
    "    layer_key=\"generated_expression\",\n",
    "    model='danb',\n",
    "    latent_obsm_key=\"X_spatial\",\n",
    "    umi_counts_obs_key=\"total_counts\"\n",
    ")\n",
    "hs.create_knn_graph(weighted_graph=False, n_neighbors=100)\n",
    "hs_results = hs.compute_autocorrelations()"
   ]
  },
  {
   "cell_type": "code",
   "execution_count": null,
   "id": "894f6b73-e443-4913-bb93-58a4fb3f15fa",
   "metadata": {
    "tags": []
   },
   "outputs": [],
   "source": [
    "hs_genes = hs_results.loc[hs_results.C > 0.15].index\n",
    "local_correlations = hs.compute_local_correlations(hs_genes, jobs=10)"
   ]
  },
  {
   "cell_type": "code",
   "execution_count": null,
   "id": "92fe1d34-9683-493d-86ce-233dede083d3",
   "metadata": {
    "tags": []
   },
   "outputs": [],
   "source": [
    "modules = hs.create_modules(\n",
    "    min_gene_threshold=10, core_only=True, fdr_threshold=1e-3\n",
    ")\n",
    "module_scores = hs.calculate_module_scores()\n",
    "hs.plot_local_correlations(vmin=-100, vmax=100)\n",
    "plt.show()"
   ]
  },
  {
   "cell_type": "code",
   "execution_count": null,
   "id": "04fd8d81-e8bb-44d8-8748-3fc86fe93556",
   "metadata": {},
   "outputs": [],
   "source": [
    "for i in module_scores.columns:\n",
    "    tumor_cells_filtered.obs[f'hotspot_{i}'] = module_scores[i]\n",
    "sc.pl.spatial(tumor_cells_filtered, color=['hotspot_1', f'hotspot_2',  'cluster'], spot_size=0.03, vmax='p98')\n",
    "sc.pl.umap(tumor_cells_filtered, color=['hotspot_1', f'hotspot_2', 'cluster'], vmax='p98', save='hotspot_modules_cancer.pdf')"
   ]
  },
  {
   "cell_type": "code",
   "execution_count": null,
   "id": "b955b503-3728-4a6f-bd26-587a08af1e3e",
   "metadata": {},
   "outputs": [],
   "source": [
    "del tumor_cells_filtered.uns['cluster_colors']"
   ]
  },
  {
   "cell_type": "code",
   "execution_count": null,
   "id": "0660b910-402c-41ac-b51d-515c8c9ded0a",
   "metadata": {},
   "outputs": [],
   "source": [
    "tumor_cells_filtered.obs['tumor_niches'] = [\n",
    "    'anti-inflammatory' if i>1.5 else 'pro-inflammatory' if j>1 else 'other' for i, j in zip(tumor_cells_filtered.obs['hotspot_2'], tumor_cells_filtered.obs['hotspot_1'])]\n",
    "sc.pl.spatial(tumor_cells_filtered, color=['hotspot_1', f'hotspot_2', 'tumor_niches', 'cluster'], spot_size=0.02, vmax='p98', save='hotspot_modules_cancer.pdf')\n",
    "sc.pl.umap(tumor_cells_filtered, color=['hotspot_1', f'hotspot_2', 'tumor_niches', 'cluster'], vmax='p98', save='hotspot_modules_cancer.pdf')"
   ]
  },
  {
   "cell_type": "code",
   "execution_count": null,
   "id": "09075e5d-e423-4e27-ad9b-63e974031c42",
   "metadata": {},
   "outputs": [],
   "source": [
    "subset.obs['tumor_niches'] = tumor_cells_filtered.obs['tumor_niches']\n",
    "subset.obs['tumor_hotspot_1'] = tumor_cells_filtered.obs['hotspot_1']\n",
    "subset.obs['tumor_hotspot_2'] = tumor_cells_filtered.obs['hotspot_2']\n",
    "\n",
    "subset.obs['tumor_niches'].astype(str).fillna('other_cells', inplace=True)"
   ]
  },
  {
   "cell_type": "code",
   "execution_count": null,
   "id": "4c9602ca-9df6-4e4a-8e78-5556181c0cf3",
   "metadata": {},
   "outputs": [],
   "source": [
    "sc.pl.umap(subset, color=['tumor_hotspot_1', 'tumor_hotspot_2', 'tumor_niches'], vmax='p99', save='tumor_niches.pdf')"
   ]
  },
  {
   "cell_type": "code",
   "execution_count": null,
   "id": "fea5ad7a-4018-43c6-8dcd-0299b863f25c",
   "metadata": {},
   "outputs": [],
   "source": [
    "subset.write_h5ad(f'figure3/final_module_scores.h5ad')"
   ]
  },
  {
   "cell_type": "code",
   "execution_count": null,
   "id": "9f24ac02-b17d-4646-9721-e6991914c0f3",
   "metadata": {},
   "outputs": [],
   "source": [
    "subset.X = subset.layers['raw_counts']\n",
    "sc.pp.normalize_total(subset)\n",
    "sc.pp.log1p(subset)"
   ]
  },
  {
   "cell_type": "code",
   "execution_count": null,
   "id": "2dd61e9c-2f3e-474e-b729-d5ce58ad73a7",
   "metadata": {
    "tags": []
   },
   "outputs": [],
   "source": [
    "sc.tl.rank_genes_groups(subset, groupby='tumor_niches', groups=['anti-inflammatory'], reference='pro-inflammatory')\n",
    "sc.get.rank_genes_groups_df(subset, group='anti-inflammatory').head(100)"
   ]
  },
  {
   "cell_type": "code",
   "execution_count": null,
   "id": "03560c69-12e8-4166-bb99-63b70374173e",
   "metadata": {},
   "outputs": [],
   "source": [
    "import decoupler as dc"
   ]
  },
  {
   "cell_type": "code",
   "execution_count": null,
   "id": "fff75839-741b-48f9-9d5b-489c33695411",
   "metadata": {},
   "outputs": [],
   "source": [
    "subset.layers['raw_counts'] = subset.layers['counts'].copy()"
   ]
  },
  {
   "cell_type": "code",
   "execution_count": null,
   "id": "489e69fb-66c3-409e-a976-8d6c4aeae6c6",
   "metadata": {
    "tags": []
   },
   "outputs": [],
   "source": [
    "de_result_importance = resolvi.differential_expression(\n",
    "    adata=subset[subset.obs['tumor_niches'].isin(['anti-inflammatory', 'pro-inflammatory'])], groupby='tumor_niches', group1='anti-inflammatory', group2='pro-inflammatory', weights='importance',\n",
    "    pseudocounts=1e-3, delta=0.05, filter_outlier_cells=True, mode='change', test_mode='three'#, batch_correction=True, batchid1=batch_index, batchid2=batch_index,\n",
    ")"
   ]
  },
  {
   "cell_type": "code",
   "execution_count": null,
   "id": "7dd7ee3f-787f-47a8-a809-4cdcc6dce650",
   "metadata": {
    "tags": []
   },
   "outputs": [],
   "source": [
    "de_result_importance.head(50)"
   ]
  },
  {
   "cell_type": "code",
   "execution_count": null,
   "id": "7051f2da-293d-406c-adac-26873ebd9a6f",
   "metadata": {},
   "outputs": [],
   "source": [
    "dc.plot_volcano_df(\n",
    "    de_result_importance,\n",
    "    x='lfc_mean',\n",
    "    y='proba_not_de',\n",
    "    sign_thr=0.1,\n",
    "    lFCs_thr=0.4,\n",
    "    top=30,\n",
    "    figsize=(10, 10),\n",
    "    save='figure3/tumor_niches_resolvi_de.pdf'\n",
    ")\n",
    "plt.show()"
   ]
  },
  {
   "cell_type": "code",
   "execution_count": null,
   "id": "2a21040d-f928-49ac-a592-8146e7fc88f0",
   "metadata": {},
   "outputs": [],
   "source": [
    "sc.tl.louvain(subset)\n",
    "sc.pl.umap(subset, color=[\"louvain\"], ncols=1, legend_loc='on data', size=1)"
   ]
  },
  {
   "cell_type": "code",
   "execution_count": null,
   "id": "582fd955-2f18-477d-9bc5-2516c7d3b82f",
   "metadata": {},
   "outputs": [],
   "source": [
    "macrophage = subset[subset.obs['louvain'].isin(['2', '19'])]"
   ]
  },
  {
   "cell_type": "code",
   "execution_count": null,
   "id": "75c7ac69-97a0-4875-89f1-795412283a7c",
   "metadata": {},
   "outputs": [],
   "source": [
    "sc.pp.neighbors(macrophage, use_rep='X_resolvi')\n",
    "sc.tl.louvain(macrophage, resolution=0.6)\n",
    "sc.tl.umap(macrophage)\n",
    "sc.pl.umap(macrophage, color=['louvain', 'cluster'])"
   ]
  },
  {
   "cell_type": "code",
   "execution_count": null,
   "id": "30a50345-3505-47ae-957e-e6db117a9a7a",
   "metadata": {},
   "outputs": [],
   "source": [
    "sc.tl.rank_genes_groups(macrophage, groupby='louvain', use_raw=False)\n",
    "sc.pl.rank_genes_groups_dotplot(macrophage, layer='counts', n_genes=5, use_raw=False, standard_scale='var')"
   ]
  },
  {
   "cell_type": "code",
   "execution_count": null,
   "id": "7e453b58-028f-4d39-b639-2a920992ddc2",
   "metadata": {},
   "outputs": [],
   "source": [
    "macrophage = macrophage[~macrophage.obs['louvain'].isin(['9', '6'])]"
   ]
  },
  {
   "cell_type": "code",
   "execution_count": null,
   "id": "ee2e6640-8593-40cc-812d-aa43f5afd182",
   "metadata": {},
   "outputs": [],
   "source": [
    "macrophage.obs['celltypes'] = macrophage.obs['louvain'].astype('category').replace({\n",
    "    '0': 'Macrophage', '1': 'Macrophage', '2': 'Macrophage', '3': 'SPP1 Macrophage', '4': 'Kupffer cell', '5': 'Pro-inflammatory', '7': 'Kupffer cell', '8': 'Neutrophil'})"
   ]
  },
  {
   "cell_type": "code",
   "execution_count": null,
   "id": "77c42a08-db12-4f08-9a23-3844b6820dd1",
   "metadata": {},
   "outputs": [],
   "source": [
    "sc.pp.neighbors(macrophage, use_rep='X_resolvi')\n",
    "sc.tl.umap(macrophage)\n",
    "sc.pl.umap(macrophage, color=['louvain', 'celltypes'])"
   ]
  },
  {
   "cell_type": "code",
   "execution_count": null,
   "id": "5cd65e6f-6b94-4ae7-a9c5-1617dd960c47",
   "metadata": {},
   "outputs": [],
   "source": [
    "macrophage.obs['celltypes'].value_counts()"
   ]
  },
  {
   "cell_type": "code",
   "execution_count": null,
   "id": "e9440d8f-6a59-4158-a45a-753a51b332f1",
   "metadata": {
    "tags": []
   },
   "outputs": [],
   "source": [
    "sc.pl.umap(macrophage,\n",
    "           color=['CD74', 'HLA-DPA1', 'MALAT1', 'CIITA', 'ZBTB16', 'CD5L', 'CD163', 'MARCO', 'MIF', 'ENO1', 'SPP1', 'S100A9', 'S100A8', 'S100A6', 'C1QB',\n",
    "                 'IFI27', 'IFI44L', 'IFI6', 'IFIH1', 'IFIT1', 'IFIT3', 'IFITM1','IFITM3', 'TGFB1', 'TGFB2', 'TGFB3', 'TGFBI'],\n",
    "           layer='raw_counts', vmax='p98', size=4)"
   ]
  },
  {
   "cell_type": "code",
   "execution_count": null,
   "id": "0722db16-e3a8-4288-aba1-0a46b16b41af",
   "metadata": {},
   "outputs": [],
   "source": [
    "subset.X = subset.layers['generated_expression'].copy()\n",
    "sc.pp.normalize_total(subset)"
   ]
  },
  {
   "cell_type": "code",
   "execution_count": null,
   "id": "741fdc76-106b-4373-b09b-def4f11be507",
   "metadata": {},
   "outputs": [],
   "source": [
    "macrophage.X = macrophage.layers['generated_expression'].copy()\n",
    "sc.pp.normalize_total(macrophage)"
   ]
  },
  {
   "cell_type": "code",
   "execution_count": null,
   "id": "841aac21-ce80-490c-ad2e-ca71c9205aed",
   "metadata": {},
   "outputs": [],
   "source": [
    "sc.pl.umap(macrophage,\n",
    "           color=['MALAT1', 'C1QB', 'CD74', 'HLA-DPA1', 'CD5L', 'CD163', 'MARCO', 'MIF', 'ENO1', 'SPP1', 'S100A9', 'S100A8',\n",
    "                 'IFI27', 'IFI6', 'CXCL9', 'TGFB1'],\n",
    "           vmax='p99', size=4, save='marker_macrophages.pdf')"
   ]
  },
  {
   "cell_type": "code",
   "execution_count": null,
   "id": "f449d536-9961-4e6a-9336-9d762df227d2",
   "metadata": {},
   "outputs": [],
   "source": [
    "sc.pl.spatial(macrophage[macrophage.obs['health']=='cancer'],\n",
    "              color=['MALAT1', 'C1QB', 'CD74', 'HLA-DPA1', 'CD5L', 'CD163', 'MARCO', 'MIF', 'ENO1', 'SPP1', 'S100A9', 'S100A8',\n",
    "                 'IFI27', 'IFI6', 'S100A6', 'TGFB1'], spot_size=0.09, vmin=0.01, save='marker_macrophages_cancer.pdf',\n",
    "              vmax=[20, 8, 20, 10, 7, 4, 7, 1.5, 2, 25, 1, 2, 0.5, 2, 1, 0.2])\n",
    "sc.pl.spatial(macrophage[macrophage.obs['health']=='normal'],\n",
    "              color=['MALAT1', 'C1QB', 'CD74', 'HLA-DPA1', 'CD5L', 'CD163', 'MARCO', 'MIF', 'ENO1', 'SPP1', 'S100A9', 'S100A8',\n",
    "                 'IFI27', 'IFI6', 'S100A6', 'TGFB1'], spot_size=0.09, vmin=0.01, save='marker_macrophages_healthy.pdf',\n",
    "              vmax=[20, 8, 20, 10, 7, 4, 7, 1.5, 2, 25, 1, 2, 0.5, 2, 1, 0.2])"
   ]
  },
  {
   "cell_type": "code",
   "execution_count": null,
   "id": "10610c1a-bb8e-40fd-9ff9-d3d60c3f6ce6",
   "metadata": {},
   "outputs": [],
   "source": [
    "import pandas as pd\n",
    "import numpy as np\n",
    "\n",
    "def compute_log_ratio(adata, condition_key, condition1, condition2, celltype_key):\n",
    "    \"\"\"\n",
    "    Compute log2-ratio of cell type frequencies between two conditions in an AnnData object.\n",
    "    \n",
    "    Parameters:\n",
    "    -----------\n",
    "    adata : AnnData\n",
    "        AnnData object containing observations.\n",
    "    condition_key : str\n",
    "        Key in adata.obs indicating the condition (e.g., 'condition').\n",
    "    condition1 : str\n",
    "        First condition (e.g., \"healthy\").\n",
    "    condition2 : str\n",
    "        Second condition (e.g., \"liver\").\n",
    "    celltype_key : str\n",
    "        Key in adata.obs indicating the cell type (e.g., \"cell_type\").\n",
    "    \n",
    "    Returns:\n",
    "    --------\n",
    "    pd.DataFrame\n",
    "        DataFrame containing cell types and their log2-ratio.\n",
    "    \"\"\"\n",
    "    # Subset data by condition\n",
    "    adata_condition1 = adata[adata.obs[condition_key] == condition1]\n",
    "    adata_condition2 = adata[adata.obs[condition_key] == condition2]\n",
    "    \n",
    "    # Get counts of cell types for each condition\n",
    "    counts_condition1 = adata_condition1.obs[celltype_key].value_counts()\n",
    "    counts_condition2 = adata_condition2.obs[celltype_key].value_counts()\n",
    "\n",
    "    # Total cells in each condition\n",
    "    total_cells_condition1 = len(adata_condition1)\n",
    "    total_cells_condition2 = len(adata_condition2)\n",
    "\n",
    "    # Normalize counts by total cells to get frequencies\n",
    "    freqs_condition1 = counts_condition1 / total_cells_condition1\n",
    "    freqs_condition2 = counts_condition2 / total_cells_condition2\n",
    "\n",
    "    # Align indexes (ensure all cell types are represented)\n",
    "    all_celltypes = freqs_condition1.index.union(freqs_condition2.index)\n",
    "    freqs_condition1 = freqs_condition1.reindex(all_celltypes, fill_value=0)\n",
    "    freqs_condition2 = freqs_condition2.reindex(all_celltypes, fill_value=0)\n",
    "\n",
    "    # Compute log2-ratio (add small constant to avoid log(0))\n",
    "    log_ratios = np.log2((freqs_condition1 + 1e-6) / (freqs_condition2 + 1e-6))\n",
    "    \n",
    "    # Convert to DataFrame\n",
    "    result_df = pd.DataFrame({\n",
    "        \"cell_type\": all_celltypes,\n",
    "        \"log2_ratio\": log_ratios\n",
    "    }).sort_values(by=\"log2_ratio\", ascending=False)\n",
    "    \n",
    "    return result_df\n",
    "\n",
    "# Example usage:\n",
    "log_ratios = compute_log_ratio(macrophage, condition_key=\"health\", condition1=\"cancer\", condition2=\"normal\", celltype_key=\"celltypes\")\n",
    "print(log_ratios)"
   ]
  },
  {
   "cell_type": "code",
   "execution_count": null,
   "id": "43d9e83b-552f-4a7b-b527-b207b6a2998e",
   "metadata": {},
   "outputs": [],
   "source": [
    "normal = macrophage"
   ]
  },
  {
   "cell_type": "code",
   "execution_count": null,
   "id": "a43295ac-8bd6-4c84-8832-aa50437389d5",
   "metadata": {},
   "outputs": [],
   "source": [
    "custom_palette = {\n",
    "    'Macrophage': (44/255, 160/255, 44/255, 0.4),       # green with 40% opacity\n",
    "    'SPP1 Macrophage': (31/255, 119/255, 180/255, 0.4), # blue with 40% opacity\n",
    "    'Kupffer cell': (255/255, 204/255, 0/255, 0.6),     # teal with 40% opacity\n",
    "    'Pro-inflammatory': (148/255, 0/255, 211/255, 0.8), # purple with 80% opacity\n",
    "    'Neutrophil': (214/255, 39/255, 40/255, 1.0),       # red with 100% opacity\n",
    "}"
   ]
  },
  {
   "cell_type": "code",
   "execution_count": null,
   "id": "1e269f6d-604f-4e85-82bf-46e40010237c",
   "metadata": {},
   "outputs": [],
   "source": [
    "sc.pl.spatial(macrophage[macrophage.obs['health']=='normal'],\n",
    "              color=['celltypes'], spot_size=0.1, vmin=0.3, vmax='p99', save='celltypes_macrophages_healthy.pdf', palette=custom_palette)\n",
    "sc.pl.spatial(macrophage[macrophage.obs['health']=='cancer'],\n",
    "              color=['celltypes'], spot_size=0.1, vmin=0.3, vmax='p99', save='celltypes_macrophages_cancer.pdf', palette=custom_palette)\n",
    "sc.pl.umap(macrophage, color=['celltypes'], vmax='p99', size=4, save='celltypes_macrophages.pdf', palette=custom_palette)"
   ]
  },
  {
   "cell_type": "code",
   "execution_count": null,
   "id": "ab594487-0d23-48ad-8193-fae3cba38aa3",
   "metadata": {},
   "outputs": [],
   "source": [
    "macrophage[:, 'TGFB1'].X = macrophage[:, 'TGFB1'].X.A + 1e-5"
   ]
  },
  {
   "cell_type": "code",
   "execution_count": null,
   "id": "70ca03d5-c36f-4030-9d6d-349c60102fdb",
   "metadata": {},
   "outputs": [],
   "source": [
    "macrophage = sc.read_h5ad(f'figure3/macrophage.h5ad')"
   ]
  },
  {
   "cell_type": "code",
   "execution_count": null,
   "id": "10a4cb50",
   "metadata": {},
   "outputs": [],
   "source": [
    "sc.pl.umap(macrophage, color=['health'], save='macrophage_health.pdf')"
   ]
  },
  {
   "cell_type": "code",
   "execution_count": null,
   "id": "f7ec37c5-a964-4478-9946-031a86250b75",
   "metadata": {},
   "outputs": [],
   "source": [
    "sc.pl.dotplot(macrophage, use_raw=False, standard_scale='var', dendrogram=False, groupby='celltypes',\n",
    "    var_names=['MALAT1', 'C1QB', 'CD74', 'HLA-DPA1', 'CD5L', 'CD163', 'MARCO', 'MIF', 'ENO1', 'SPP1', 'S100A9', 'S100A8', 'IFI27', 'IFI6', 'CXCL9', 'TGFB1'], save='markers_macrophages.pdf')"
   ]
  },
  {
   "cell_type": "code",
   "execution_count": null,
   "id": "f6cff64d-2987-4093-ad83-c387f52ab1f8",
   "metadata": {},
   "outputs": [],
   "source": [
    "macrophage.write_h5ad(f'figure3/macrophage.h5ad')\n",
    "tumor_cells.write_h5ad(f'figure3/tumor_cells.h5ad')"
   ]
  },
  {
   "cell_type": "code",
   "execution_count": null,
   "id": "12c1b062-b856-4517-aca6-7445d71404e6",
   "metadata": {},
   "outputs": [],
   "source": [
    "tcell = subset[np.logical_and(subset.obs['louvain'].isin(['12']), subset.obs['true_transcripts']>30)]\n",
    "sc.pp.neighbors(tcell, use_rep='X_resolVI', method='rapids', n_neighbors=20)\n",
    "sc.tl.umap(tcell)\n",
    "sc.tl.louvain(tcell, resolution=0.3)\n",
    "sc.pl.umap(tcell, color=['louvain', 'cluster', 'health'], legend_loc='on data')"
   ]
  },
  {
   "cell_type": "code",
   "execution_count": null,
   "id": "919fbbbb-e8bd-485d-b326-36a3093b1576",
   "metadata": {},
   "outputs": [],
   "source": [
    "tcell = sc.read_h5ad(f'figure3/tcell.h5ad')"
   ]
  },
  {
   "cell_type": "code",
   "execution_count": null,
   "id": "79221bf9-07e7-46c2-8791-56eb20a92a2f",
   "metadata": {},
   "outputs": [],
   "source": [
    "tcell_sub = tcell[~tcell.obs['louvain'].isin(['1', '3'])]\n",
    "sc.pp.neighbors(tcell_sub, use_rep='X_resolVI', method='rapids', n_neighbors=20)\n",
    "sc.tl.umap(tcell_sub)\n",
    "sc.tl.louvain(tcell_sub, resolution=0.7)\n",
    "sc.pl.umap(tcell_sub, color=['louvain', 'cluster', 'health'], legend_loc='on data')"
   ]
  },
  {
   "cell_type": "code",
   "execution_count": null,
   "id": "2bf82cdc-6b1a-4ee6-8249-ed38bf78c845",
   "metadata": {
    "tags": []
   },
   "outputs": [],
   "source": [
    "sc.pl.umap(tcell_sub, color=['TIGIT', 'TNFRSF1B', 'TNFRSF9', 'RGS1', 'S100A4', 'LAG3', 'LGALS1', 'LGALS3', 'RBPJ', 'PFN1', 'VIM', 'HAVCR2', 'ICOS', 'IFIT3', 'IFI44L', 'IL18R1',\n",
    "                          'IL2RA', 'CTLA4', 'CXCL13', 'CXCR3', 'FOXP3', 'GZMH', 'GZMK', 'NKG7', 'PRF1', 'CX3CR1'],\n",
    "           sort_order=True, layer='corrected_counts', vmax='p98', size=30)"
   ]
  },
  {
   "cell_type": "code",
   "execution_count": null,
   "id": "0b38f3b3-f4da-4666-ba60-887416ddafad",
   "metadata": {},
   "outputs": [],
   "source": [
    "tcell_sub.obs['celltypes_re'] = tcell_sub.obs['louvain'].astype('category').replace({\n",
    "    '0': 'low_quality', '1': 'TREG', '2': 'Central Memory', '3': 'Gamma-Delta', '4': 'CXCL13+', '5': 'CD8_GZMK', '6': 'NK cell', '7': 'Central Memory'})"
   ]
  },
  {
   "cell_type": "code",
   "execution_count": null,
   "id": "83c67a52-d698-4aad-8562-43be817e35df",
   "metadata": {},
   "outputs": [],
   "source": [
    "tcell_sub.X = tcell_sub.layers['generated_expression'].copy()\n",
    "sc.pp.normalize_total(tcell_sub)\n",
    "sc.pp.log1p(tcell_sub)\n",
    "sc.pl.dotplot(tcell_sub, var_names=['CD3D',  'CD3E',  'CD3G',  'CD4',  'CD8A',  'CD8B', 'IL7R', 'CCR7', 'RGS1', 'FOXP3', 'CTLA4', 'IL2RA', 'CXCR3', 'TNFRSF1B', 'GZMK', 'TIGIT', 'LAG3', 'RBPJ', 'HAVCR2', 'ICOS',\n",
    "                          'CXCL13', 'GZMH', 'NKG7', 'PRF1', 'CX3CR1'], groupby='celltypes_re', standard_scale='var', smallest_dot=8., dendrogram=True, save='tcell_generated.pdf')"
   ]
  },
  {
   "cell_type": "code",
   "execution_count": null,
   "id": "194600d2-89cd-4594-9e31-8af6f814db08",
   "metadata": {},
   "outputs": [],
   "source": [
    "tcell_sub.X = tcell_sub.layers['raw_counts'].copy()\n",
    "sc.pp.normalize_total(tcell_sub)\n",
    "sc.pp.log1p(tcell_sub)\n",
    "sc.pl.dotplot(tcell_sub, var_names=['CD3D',  'CD3E',  'CD3G',  'CD4',  'CD8A',  'CD8B', 'IL7R', 'CCR7', 'RGS1', 'FOXP3', 'CTLA4', 'IL2RA', 'CXCR3', 'TNFRSF1B', 'GZMK', 'TIGIT', 'LAG3', 'RBPJ', 'HAVCR2', 'ICOS',\n",
    "                          'CXCL13', 'GZMH', 'NKG7', 'PRF1', 'CX3CR1'], groupby='celltypes_re', standard_scale='var', smallest_dot=8., dendrogram=True, save='tcell_raw.pdf')"
   ]
  },
  {
   "cell_type": "code",
   "execution_count": null,
   "id": "1c65cdd4-fd14-48e4-9b30-a6b5413bd7da",
   "metadata": {},
   "outputs": [],
   "source": [
    "tcell_sub.X = tcell_sub.layers['corrected_counts'].copy()\n",
    "sc.pp.normalize_total(tcell_sub)\n",
    "sc.pp.log1p(tcell_sub)\n",
    "sc.pl.dotplot(tcell_sub, var_names=['CD3D',  'CD3E',  'CD3G',  'CD4',  'CD8A',  'CD8B', 'IL7R', 'CCR7', 'RGS1', 'FOXP3', 'CTLA4', 'IL2RA', 'CXCR3', 'TNFRSF1B', 'GZMK', 'TIGIT', 'LAG3', 'RBPJ', 'HAVCR2', 'ICOS',\n",
    "                          'CXCL13', 'GZMH', 'NKG7', 'PRF1', 'CX3CR1'], groupby='celltypes_re', standard_scale='var', smallest_dot=8., dendrogram=True, save='tcell_corrected.pdf')"
   ]
  },
  {
   "cell_type": "code",
   "execution_count": null,
   "id": "58118519-b5a2-4db2-9b47-c14739d7af19",
   "metadata": {},
   "outputs": [],
   "source": [
    "sc.pl.umap(tcell_sub, color=['celltypes_re', 'health', 'cluster'], save='tcell_celltypes.pdf')"
   ]
  },
  {
   "cell_type": "code",
   "execution_count": null,
   "id": "060bbdd8-a2ce-4856-a7d6-33a414771a9b",
   "metadata": {},
   "outputs": [],
   "source": [
    "sc.pl.spatial(tcell_sub[tcell_sub.obs['health']=='normal'], groups=['TREG', 'CD8_GZMK', 'CXCL13+', 'Central Memory', 'Gamma-Delta', 'NK cell'],\n",
    "              color=['celltypes_re'], spot_size=0.1, vmin=0.3, vmax='p99', save='celltypes_tcell_healthy.pdf')\n",
    "sc.pl.spatial(tcell_sub[tcell_sub.obs['health']=='cancer'], groups=['TREG', 'CD8_GZMK', 'CXCL13+', 'Central Memory', 'Gamma-Delta', 'NK cell'],\n",
    "              color=['celltypes_re'], spot_size=0.1, vmin=0.3, vmax='p99', save='celltypes_tcell_cancer.pdf')"
   ]
  },
  {
   "cell_type": "code",
   "execution_count": null,
   "id": "f55bbf6b-0234-4203-9809-2df4d4eab79c",
   "metadata": {},
   "outputs": [],
   "source": [
    "sc.pl.spatial(tcell_sub[tcell_sub.obs['health']=='cancer'], groups=['TREG', 'CXCL13+', 'CD8_GZMK'],\n",
    "              color=['FOXP3', 'IL7R', 'CXCL13', 'IL2RA', 'CXCR3', 'PRF1', 'GNLY', 'LAG3', 'CXCR5'], spot_size=0.1, layer='raw_counts', vmax='p99', vmin=0)"
   ]
  },
  {
   "cell_type": "code",
   "execution_count": null,
   "id": "06eb6353-9fc2-4366-9584-12e342e6ecac",
   "metadata": {},
   "outputs": [],
   "source": [
    "tcell.write_h5ad(f'figure3/tcell.h5ad')\n",
    "subset.write_h5ad(f'figure3/nanostring_finished_baysor.h5ad')"
   ]
  },
  {
   "cell_type": "markdown",
   "id": "ea3088c8-5920-48cb-93e1-7946d8e73dab",
   "metadata": {},
   "source": [
    "## sc Reference"
   ]
  },
  {
   "cell_type": "code",
   "execution_count": null,
   "id": "ad7913c6-c432-4b9d-9653-a468f3011180",
   "metadata": {},
   "outputs": [],
   "source": [
    "import json"
   ]
  },
  {
   "cell_type": "code",
   "execution_count": null,
   "id": "f7075cbf-b0cd-49da-935d-1f3079c4062c",
   "metadata": {},
   "outputs": [],
   "source": [
    "subset = sc.read_h5ad(f'{path}liver_nanostring/baysor_filtered_lq_all_cells.h5ad')"
   ]
  },
  {
   "cell_type": "code",
   "execution_count": null,
   "id": "2e64220f-56cf-41b2-abb0-aaf11c533c2c",
   "metadata": {},
   "outputs": [],
   "source": [
    "#!curl https://datasets.cellxgene.cziscience.com/0401c761-2112-4f10-ae7d-6d5e04b5e1a4.h5ad -O liver_nanostring/sc_reference.h5ad"
   ]
  },
  {
   "cell_type": "code",
   "execution_count": null,
   "id": "04305331-d666-4eec-a13c-77ec1db2b0c1",
   "metadata": {},
   "outputs": [],
   "source": [
    "sc_reference = sc.read('sc_reference_liver.h5ad')"
   ]
  },
  {
   "cell_type": "code",
   "execution_count": null,
   "id": "f87c9645-945e-490e-bc0b-d30d145ee95e",
   "metadata": {},
   "outputs": [],
   "source": [
    "sc_reference.X = sc_reference.raw.X"
   ]
  },
  {
   "cell_type": "code",
   "execution_count": null,
   "id": "c6072c68-99d7-46fa-a57b-45020d8b2d49",
   "metadata": {},
   "outputs": [],
   "source": [
    "del sc_reference.raw"
   ]
  },
  {
   "cell_type": "code",
   "execution_count": null,
   "id": "0198271a-0af7-4c08-ac57-d065e85abb15",
   "metadata": {},
   "outputs": [],
   "source": [
    "sc_reference.obs['disease'].value_counts()"
   ]
  },
  {
   "cell_type": "code",
   "execution_count": null,
   "id": "503693ec-03af-4ec5-9fbe-f6eaf764a0da",
   "metadata": {},
   "outputs": [],
   "source": [
    "sc_reference = sc_reference[sc_reference.obs['disease']=='normal']\n",
    "sc_reference.obs['author_cell_type'].value_counts()"
   ]
  },
  {
   "cell_type": "code",
   "execution_count": null,
   "id": "d98e68f8-6375-43b6-8fe1-0ecc87b61050",
   "metadata": {},
   "outputs": [],
   "source": [
    "sc_reference.obs['coarse_ct'] = sc_reference.obs['author_cell_type'].astype(str).map({\n",
    "    'P-Hepato': 'Hepatocyte',\n",
    "    'C-Hepato': 'Hepatocyte',\n",
    "    'P-Hepato2': 'Hepatocyte',\n",
    "    'C-Hepato2': 'Hepatocyte',\n",
    "    'cvLSEC': 'Endothelial',\n",
    "    'Hepato-Doublet': 'low quality',\n",
    "    'Chol': 'Cholangiocyte',\n",
    "    'Stellate': 'Fibroblast',\n",
    "    'cvLSEC-Doublet': 'low quality',\n",
    "    'ppLSEC': 'Endothelial',\n",
    "    'Stellate-Doublet': 'low quality',\n",
    "    'Prolif': 'low quality', \n",
    "    'aStellate': 'Fibroblast',\n",
    "    'Monocyte': 'Myeloid',\n",
    "    'I-Hepato': 'Hepatocyte',\n",
    "    'Kupffer': 'Myeloid',\n",
    "    'Kupffer-Doublet': 'low quality', \n",
    "    'CD4T': 'Lympho',\n",
    "    'Chol-Doublet': 'low quality',\n",
    "    'lrNK': 'Lympho',\n",
    "    'cvEndo': 'Endothelial',\n",
    "    'Tcell-Doublet': 'low quality',\n",
    "    'Fibroblast': 'Fibroblast',\n",
    "    'CholMucus': 'Cholangiocyte',\n",
    "    'VSMC': 'Fibroblast',\n",
    "    'AntiB': 'Bcell',\n",
    "    'cvLSEC--Mac': 'low quality',\n",
    "    'Chol--Stellate-Doublet': 'low quality',\n",
    "    'Prolif-Mac': 'low quality',\n",
    "    'Chol--Kupffer-Doublet': 'low quality'\n",
    "})\n",
    "sc_reference = sc_reference[~(sc_reference.obs['coarse_ct']=='low quality')]"
   ]
  },
  {
   "cell_type": "code",
   "execution_count": null,
   "id": "747aadaf-44a8-4673-818c-8eaf03f8b821",
   "metadata": {},
   "outputs": [],
   "source": [
    "sc_reference.var_names = sc_reference.var['feature_name'].astype(str)\n",
    "sc_reference.var_names_make_unique()\n",
    "sc_reference.obs_names_make_unique()\n",
    "sc_reference = sc_reference[:, np.intersect1d(subset.var_names, sc_reference.var['feature_name'])].copy()"
   ]
  },
  {
   "cell_type": "code",
   "execution_count": null,
   "id": "c3b1fb16-ab47-4263-88d5-e7fa9a1a84d4",
   "metadata": {},
   "outputs": [],
   "source": [
    "sc_reference.layers['counts'] = sc_reference.X.copy()\n",
    "sc.pp.normalize_total(sc_reference, layer='counts')\n",
    "sc_reference.obsm['counts'] = pd.DataFrame(sc_reference.layers['counts'].A, columns=sc_reference.var_names, index=sc_reference.obs_names)"
   ]
  },
  {
   "cell_type": "code",
   "execution_count": null,
   "id": "14067ec2-8aa0-471f-86fd-4db3c64cafe4",
   "metadata": {},
   "outputs": [],
   "source": [
    "_utils.double_positive_pmm(sc_reference, sc_reference.var_names, layer_key=\"counts\", output_dir='figure3')\n",
    "plt.close('all')"
   ]
  },
  {
   "cell_type": "code",
   "execution_count": null,
   "id": "a9b898a8-09d3-4d91-a907-ef7bb4436265",
   "metadata": {},
   "outputs": [],
   "source": [
    "sc_reference.obsm['positive_pmm_counts']['celltype'] = sc_reference.obs['coarse_ct']\n",
    "per_celltype_positive = sc_reference.obsm['positive_pmm_counts'].groupby('celltype').mean()\n",
    "#per_celltype_positive.drop('PeripheralGlia', inplace=True)"
   ]
  },
  {
   "cell_type": "code",
   "execution_count": null,
   "id": "3b92f063-d91b-4550-b361-0b0df8f6beb6",
   "metadata": {},
   "outputs": [],
   "source": [
    "celltype_gene_dict = {}\n",
    "\n",
    "# Iterate over each column\n",
    "for col in per_celltype_positive.columns:\n",
    "    # Check if only one value is above 0.2 and all other values are below 0.05\n",
    "    if (per_celltype_positive[col] > 0.2).sum() == 1 and (per_celltype_positive[col] < 0.05).sum() == len(per_celltype_positive) - 1:\n",
    "        # Get the celltype for which the value is above 0.2\n",
    "        celltype = per_celltype_positive[per_celltype_positive[col] > 0.1].index[0]\n",
    "        # If the celltype is not in the result dictionary, add it with an empty list\n",
    "        if celltype not in celltype_gene_dict:\n",
    "            celltype_gene_dict[celltype] = []\n",
    "        # Append the column (gene) to the list of genes for this celltype\n",
    "        celltype_gene_dict[celltype].append(col)"
   ]
  },
  {
   "cell_type": "code",
   "execution_count": null,
   "id": "17315929-071c-4c30-99e6-4bff4e9a84d6",
   "metadata": {},
   "outputs": [],
   "source": [
    "marker_dict = celltype_gene_dict\n",
    "marker_dict"
   ]
  },
  {
   "cell_type": "code",
   "execution_count": null,
   "id": "6d349efd-004c-4f88-b3d4-8323c10e2999",
   "metadata": {},
   "outputs": [],
   "source": [
    "import json\n",
    "with open('figure3/celltype_markers_sc_ref_extended.json', 'w') as fp:\n",
    "    json.dump(marker_dict, fp)"
   ]
  },
  {
   "cell_type": "code",
   "execution_count": null,
   "id": "fece9524-394b-4f4a-92e9-8a054191bbdf",
   "metadata": {},
   "outputs": [],
   "source": [
    "import json\n",
    "with open('figure3/celltype_markers_sc_ref_extended.json', 'r') as fp:\n",
    "    marker_dict = json.load(fp)"
   ]
  },
  {
   "cell_type": "code",
   "execution_count": null,
   "id": "630a9985-167f-4983-8e06-213af4627ab6",
   "metadata": {
    "tags": []
   },
   "outputs": [],
   "source": [
    "marker_dict = {'Myeloid': ['ADGRE2',\n",
    "  'C1QA',\n",
    "  'C1QB',\n",
    "  'C1QC',\n",
    "  'CD163',\n",
    "  'CD68',\n",
    "  'CD86',\n",
    "  'CLEC7A',\n",
    "  'CMKLR1',\n",
    "  'CSF1R',\n",
    "  'CSF3R',\n",
    "  'FPR1',\n",
    "  'GPNMB',\n",
    "  'HCK',\n",
    "  'IL1R2',\n",
    "  'LYZ',\n",
    "  'MARCO',\n",
    "  'MS4A4A',\n",
    "  'MSR1',\n",
    "  'TLR2'],\n",
    " 'Endothelial': ['ADGRL4',\n",
    "  'CD9',\n",
    "  'CLEC1A',\n",
    "  'FLT1',\n",
    "  'FZD4',\n",
    "  'IL33',\n",
    "  'KDR',\n",
    "  'NPR1',\n",
    "  'RAMP3',\n",
    "  'TIE1'],\n",
    " 'Fibroblast': ['ANGPT1',\n",
    "  'BGN',\n",
    "  'BMP5',\n",
    "  'CACNA1C',\n",
    "  'CARMN',\n",
    "  'CDH19',\n",
    "  'COL12A1',\n",
    "  'COL14A1',\n",
    "  'COL1A1',\n",
    "  'COL1A2',\n",
    "  'COL3A1',\n",
    "  'COL6A3',\n",
    "  'EPHA3',\n",
    "  'HGF',\n",
    "  'IGFBP5',\n",
    "  'MYL9',\n",
    "  'PDGFRA',\n",
    "  'RAMP1',\n",
    "  'VEGFC'],\n",
    " 'Cholangiocyte': ['CASR',\n",
    "  'CCL28',\n",
    "  'CD24',\n",
    "  'IL20RA',\n",
    "  'ITGA2',\n",
    "  'ITGB8',\n",
    "  'KRT7',\n",
    "  'SPP1'],\n",
    " 'Lympho': ['CCL5', 'CD2', 'IL7R', 'ITK', 'KLRF1', 'PRF1'],\n",
    " 'Bcell': ['CD27',\n",
    "  'IGHA1',\n",
    "  'IGHG1',\n",
    "  'IGHM',\n",
    "  'IGKC',\n",
    "  'JCHAIN',\n",
    "  'MZB1',\n",
    "  'SELL',\n",
    "  'TNFRSF13B',\n",
    "  'WNT5B']}"
   ]
  },
  {
   "cell_type": "code",
   "execution_count": null,
   "id": "d767ab3c-8ffc-4de5-8c7d-69105f4c0b99",
   "metadata": {},
   "outputs": [],
   "source": [
    "marker_list = sum(marker_dict.values(), [])"
   ]
  },
  {
   "cell_type": "code",
   "execution_count": null,
   "id": "1737caf8-181a-41a4-9308-af21b18d0fc4",
   "metadata": {
    "tags": []
   },
   "outputs": [],
   "source": [
    "sc.pp.normalize_total(subset, layers=['generated_expression', 'raw_counts', 'corrected_counts', 'generated_expression_mean'])\n",
    "subset.obsm['counts'] = pd.DataFrame(subset[:, marker_list].layers['raw_counts'].A, columns=marker_list, index=subset.obs_names)\n",
    "subset.obsm['generated_expression'] = pd.DataFrame(subset[:, marker_list].layers['generated_expression'].A,  columns=marker_list, index=subset.obs_names)\n",
    "subset.obsm['corrected_counts'] = pd.DataFrame(subset[:, marker_list].layers['corrected_counts'].A, columns=marker_list, index=subset.obs_names)\n",
    "_utils.cosine_distance_celltype(subset[subset.obs['health']=='normal'], marker_dict, layer_key=\"generated_expression\", output_dir='figure3', extra_save='baysor_healthy', vmax=0.3)\n",
    "_utils.cosine_distance_celltype(subset[subset.obs['health']=='cancer'], marker_dict, layer_key=\"generated_expression\", output_dir='figure3', extra_save='baysor_cancer', vmax=0.3)\n",
    "plt.show()"
   ]
  },
  {
   "cell_type": "code",
   "execution_count": null,
   "id": "9a317077-a43f-4ee2-83d6-02613cfad216",
   "metadata": {},
   "outputs": [],
   "source": [
    "pd.options.display.max_rows=200"
   ]
  },
  {
   "cell_type": "code",
   "execution_count": null,
   "id": "efb059cf-8731-4c87-918e-dc76f89d0935",
   "metadata": {},
   "outputs": [],
   "source": [
    "pd.options.display.max_columns = 200"
   ]
  },
  {
   "cell_type": "code",
   "execution_count": null,
   "id": "333a97ac-f5b6-4340-b6fd-bef6779a6e1e",
   "metadata": {},
   "outputs": [],
   "source": [
    "_utils.double_positive_pmm(\n",
    "    subset[subset.obs['health']=='normal'], marker_list, marker_dict=marker_dict, layer_key=\"generated_expression\", output_dir='figure3', file_save='baysor_healthy')\n",
    "_utils.double_positive_pmm(\n",
    "    subset[subset.obs['health']=='cancer'], marker_list, marker_dict=marker_dict, layer_key=\"generated_expression\", output_dir='figure3', file_save='baysor_cancer')\n",
    "plt.show()"
   ]
  },
  {
   "cell_type": "code",
   "execution_count": null,
   "id": "eeee03d1-0a2e-43dc-954e-3ece2942b044",
   "metadata": {},
   "outputs": [],
   "source": [
    "macrophage = subset[subset.obs['louvain']=='7']"
   ]
  },
  {
   "cell_type": "code",
   "execution_count": null,
   "id": "34404113-d7f4-465e-86e2-bf1fb4023fe2",
   "metadata": {},
   "outputs": [],
   "source": [
    "macrophage = sc.read_h5ad(f'figure3/macrophage.h5ad')"
   ]
  },
  {
   "cell_type": "code",
   "execution_count": null,
   "id": "8f8cf143-35a1-4d2e-8b4a-302fa02907ac",
   "metadata": {},
   "outputs": [],
   "source": [
    "macrophage.obs"
   ]
  },
  {
   "cell_type": "code",
   "execution_count": null,
   "id": "8949ef2a-b068-4bc5-b83c-d16b21b779f3",
   "metadata": {},
   "outputs": [],
   "source": [
    "ax = sc.pl.scatter(\n",
    "    subset[np.logical_and(subset.obs['cluster']=='Cholangiocytes'], x='SPP1', y='CD68',\n",
    "    layers='generated_expression', use_raw=False, size=200, color='health', show=False)\n",
    "ax.set_xlim(-5, 150)\n",
    "ax.set_ylim(-1, 30)\n",
    "plt.savefig('figure3/scatter_spp1_cd68_cholangiocytes.pdf')\n",
    "plt.show()"
   ]
  },
  {
   "cell_type": "code",
   "execution_count": null,
   "id": "d022d469-3b86-464e-8bd2-852fe5a76f97",
   "metadata": {},
   "outputs": [],
   "source": [
    "ax = sc.pl.scatter(\n",
    "    macrophage, x='SPP1', y='CD68',\n",
    "    layers='generated_expression', use_raw=False, size=200, color='health', show=False)\n",
    "ax.set_xlim(-5, 150)\n",
    "ax.set_ylim(-1, 30)\n",
    "plt.savefig('figure3/scatter_spp1_cd68_macrophages.pdf')\n",
    "plt.show()"
   ]
  },
  {
   "cell_type": "code",
   "execution_count": null,
   "id": "20ee2ffd-38ac-4ea9-af15-ba509f26534d",
   "metadata": {},
   "outputs": [],
   "source": [
    "ax = sc.pl.scatter(\n",
    "    subset[subset.obs['health']=='normal'], x='SPP1', y='CD68',\n",
    "    layers='generated_expression', use_raw=False, size=200, color='cluster', show=False,\n",
    "    groups=['Cholangiocytes', 'Non.inflammatory.macrophages', 'Inflammatory.macrophages', 'tumor_2'])\n",
    "ax.set_xlim(-0.3, 40)\n",
    "ax.set_ylim(-1, 15)\n",
    "plt.savefig('figure3/scatterepcam_vwf_generated_dp.pdf')\n",
    "plt.show()"
   ]
  },
  {
   "cell_type": "code",
   "execution_count": null,
   "id": "2ceb2c8e-e35a-466e-bd55-2f34a4a48263",
   "metadata": {},
   "outputs": [],
   "source": [
    "_utils.double_positive_pmm(\n",
    "    sc_reference, marker_list, marker_dict=marker_dict, layer_key=\"counts\", output_dir='figure3', file_save='single_cell')\n",
    "plt.show()"
   ]
  }
 ],
 "metadata": {
  "kernelspec": {
   "display_name": "resolvi_new",
   "language": "python",
   "name": "resolvi_new"
  },
  "language_info": {
   "codemirror_mode": {
    "name": "ipython",
    "version": 3
   },
   "file_extension": ".py",
   "mimetype": "text/x-python",
   "name": "python",
   "nbconvert_exporter": "python",
   "pygments_lexer": "ipython3",
   "version": "3.10.0"
  }
 },
 "nbformat": 4,
 "nbformat_minor": 5
}
