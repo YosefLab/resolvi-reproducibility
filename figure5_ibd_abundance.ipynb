{
 "cells": [
  {
   "cell_type": "code",
   "execution_count": null,
   "id": "3ca50419-66e6-4e47-ad33-edd377283a44",
   "metadata": {},
   "outputs": [],
   "source": [
    "%load_ext autoreload\n",
    "%autoreload 2"
   ]
  },
  {
   "cell_type": "code",
   "execution_count": null,
   "id": "7d613bc8-073b-47eb-9af7-15eda41460ff",
   "metadata": {},
   "outputs": [],
   "source": [
    "import os\n",
    "os.environ['R_HOME'] = '/home/cane/miniconda3/envs/hub_paper/lib/R'\n",
    "import milopy"
   ]
  },
  {
   "cell_type": "code",
   "execution_count": null,
   "id": "4509c86e-0c25-417f-adb5-80be2f4cd4c4",
   "metadata": {},
   "outputs": [],
   "source": [
    "from torch import distributions"
   ]
  },
  {
   "cell_type": "code",
   "execution_count": null,
   "id": "25917178-c8d1-4588-9fed-590db020a7ee",
   "metadata": {},
   "outputs": [],
   "source": [
    "import sys\n",
    "sys.path.insert(0,'/home/cane/Documents/yoseflab/can/resolVI')\n",
    "from scvi.external import RESOLVI"
   ]
  },
  {
   "cell_type": "code",
   "execution_count": null,
   "id": "53701b05-29ff-4524-bec5-2eefe8da7502",
   "metadata": {},
   "outputs": [],
   "source": [
    "import scanpy as sc\n",
    "import pandas as pd\n",
    "import numpy as np\n",
    "import scvi\n",
    "import matplotlib.pyplot as plt\n",
    "import seaborn as sns"
   ]
  },
  {
   "cell_type": "code",
   "execution_count": null,
   "id": "467c4ff4-2652-4c3b-ae38-7bb3c7452939",
   "metadata": {},
   "outputs": [],
   "source": [
    "import pyro\n",
    "import pyro.distributions as dist\n",
    "import pyro.poutine as poutine\n",
    "import torch\n",
    "from pyro.infer import Importance, EmpiricalMarginal, Trace_ELBO, SVI\n",
    "from pyro.infer.autoguide import AutoDiagonalNormal"
   ]
  },
  {
   "cell_type": "code",
   "execution_count": null,
   "id": "e437a3d9-aa11-4587-8bf6-db47354d436e",
   "metadata": {},
   "outputs": [],
   "source": [
    "sns.reset_orig()\n",
    "sc.settings._vector_friendly = True\n",
    "sc.settings.n_jobs = -1\n",
    "# p9.theme_set(p9.theme_classic)\n",
    "plt.rcParams[\"svg.fonttype\"] = \"none\"\n",
    "plt.rcParams[\"pdf.fonttype\"] = 42\n",
    "plt.rcParams[\"savefig.transparent\"] = True\n",
    "plt.rcParams[\"figure.figsize\"] = (4, 4)\n",
    "\n",
    "plt.rcParams[\"axes.titlesize\"] = 15\n",
    "plt.rcParams[\"axes.titleweight\"] = 500\n",
    "plt.rcParams[\"axes.titlepad\"] = 8.0\n",
    "plt.rcParams[\"axes.labelsize\"] = 14\n",
    "plt.rcParams[\"axes.labelweight\"] = 500\n",
    "plt.rcParams[\"axes.linewidth\"] = 1.2\n",
    "plt.rcParams[\"axes.labelpad\"] = 6.0\n",
    "plt.rcParams[\"axes.spines.top\"] = False\n",
    "plt.rcParams[\"axes.spines.right\"] = False\n",
    "\n",
    "plt.rcParams[\"font.size\"] = 11\n",
    "# plt.rcParams['font.family'] = 'sans-serif'\n",
    "plt.rcParams['font.sans-serif'] = ['Helvetica', \"Computer Modern Sans Serif\", \"DejaVU Sans\"]\n",
    "plt.rcParams['font.weight'] = 500\n",
    "\n",
    "plt.rcParams['xtick.labelsize'] = 12\n",
    "plt.rcParams['xtick.minor.size'] = 1.375\n",
    "plt.rcParams['xtick.major.size'] = 2.75\n",
    "plt.rcParams['xtick.major.pad'] = 2\n",
    "plt.rcParams['xtick.minor.pad'] = 2\n",
    "\n",
    "plt.rcParams['ytick.labelsize'] = 12\n",
    "plt.rcParams['ytick.minor.size'] = 1.375\n",
    "plt.rcParams['ytick.major.size'] = 2.75\n",
    "plt.rcParams['ytick.major.pad'] = 2\n",
    "plt.rcParams['ytick.minor.pad'] = 2\n",
    "\n",
    "plt.rcParams[\"legend.fontsize\"] = 12\n",
    "plt.rcParams['legend.handlelength'] = 1.4\n",
    "plt.rcParams['legend.numpoints'] = 1\n",
    "plt.rcParams['legend.scatterpoints'] = 3\n",
    "\n",
    "plt.rcParams['lines.linewidth'] = 1.7\n",
    "DPI = 300"
   ]
  },
  {
   "cell_type": "code",
   "execution_count": null,
   "id": "cc251ff1-8cb4-4629-a263-e4630d16758c",
   "metadata": {},
   "outputs": [],
   "source": [
    "sc.set_figure_params(dpi=100, dpi_save=300, format='png', frameon=False, vector_friendly=True, fontsize=14, color_map='viridis', figsize=None)\n",
    "sc.settings.figdir = 'figure4_new/'"
   ]
  },
  {
   "cell_type": "code",
   "execution_count": null,
   "id": "ee870768-c867-415b-a3b4-3a3b442e2d46",
   "metadata": {},
   "outputs": [],
   "source": [
    "sub = sc.read(f'figure4_new/processed_adata_all_final_niche_final.h5ad')"
   ]
  },
  {
   "cell_type": "code",
   "execution_count": null,
   "id": "657528d7-07b7-4eb9-ba27-ebb8b41a7371",
   "metadata": {},
   "outputs": [],
   "source": [
    "tmp = sub.obsm['celltype_predicted'].groupby(sub.obs['Slice_ID']).mean()\n",
    "scaled = tmp.div(tmp.sum(axis=1), axis=0)"
   ]
  },
  {
   "cell_type": "code",
   "execution_count": null,
   "id": "c4956dfd-a3f7-4144-82f7-f4c80496efdc",
   "metadata": {},
   "outputs": [],
   "source": [
    "import anndata as ad"
   ]
  },
  {
   "cell_type": "code",
   "execution_count": null,
   "id": "ffad8d8e-8def-4786-9aca-9dab00602f7b",
   "metadata": {},
   "outputs": [],
   "source": [
    "ad_scaled = ad.AnnData(scaled)\n",
    "meta_info = sub.obs[[\n",
    "    'Slice_ID', 'timepoint']].drop_duplicates().set_index('Slice_ID')\n",
    "ad_scaled.obs['timepoint'] = meta_info['timepoint']"
   ]
  },
  {
   "cell_type": "code",
   "execution_count": null,
   "id": "00e2eee2-faeb-4d59-9772-fab47b4b621a",
   "metadata": {},
   "outputs": [],
   "source": [
    "fine_coarse_dictionary = sub.obs[['Tier3', 'Tier1']].drop_duplicates().set_index('Tier3').to_dict()['Tier1']"
   ]
  },
  {
   "cell_type": "code",
   "execution_count": null,
   "id": "524f40a8-41f9-4e8c-a46a-bfa9a9cfb4ae",
   "metadata": {},
   "outputs": [],
   "source": [
    "epithelial = [i for i, j in fine_coarse_dictionary.items() if j=='Epithelial']\n",
    "fibroblast = [i for i, j in fine_coarse_dictionary.items() if j=='Fibroblast']"
   ]
  },
  {
   "cell_type": "code",
   "execution_count": null,
   "id": "130bd15e-c035-432c-b733-96231379d087",
   "metadata": {},
   "outputs": [],
   "source": [
    "sc.pl.dotplot(ad_scaled, groupby='timepoint', var_names=fibroblast, standard_scale='var', expression_cutoff=0.01, swap_axes=True, smallest_dot=30, save='fibroblast_cell_timepoint.pdf')"
   ]
  },
  {
   "cell_type": "code",
   "execution_count": null,
   "id": "4cad20b8-b0ad-4773-a03a-ff19764648fa",
   "metadata": {},
   "outputs": [],
   "source": [
    "epithelial = ['Stem cells', 'Colonocytes', 'TA', 'Goblet 2', 'M cells', 'EEC', 'Goblet 1', 'IAE 1', 'IAE 2', 'IAE 3', 'Repair associated  (Arg1+)', 'Epithelial (Clu+)']"
   ]
  },
  {
   "cell_type": "code",
   "execution_count": null,
   "id": "1bc80083-2881-4de3-81d6-ce6760cc64ac",
   "metadata": {},
   "outputs": [],
   "source": [
    "sc.pl.dotplot(ad_scaled, groupby='timepoint', var_names=epithelial, standard_scale='var', expression_cutoff=0.01, swap_axes=True, smallest_dot=30, save='epithelial_cell_timepoint.pdf')"
   ]
  },
  {
   "cell_type": "code",
   "execution_count": null,
   "id": "00f2a5bd-5ad5-4f67-aeca-ccd72b890e3d",
   "metadata": {},
   "outputs": [],
   "source": [
    "scaled = scaled.merge(meta_info, how='inner', left_index=True, right_index=True)"
   ]
  },
  {
   "cell_type": "code",
   "execution_count": null,
   "id": "3cdd5f0e-2c3a-42a6-a141-a38a184691dd",
   "metadata": {},
   "outputs": [],
   "source": [
    "scaled.index = scaled.index.astype(str)"
   ]
  },
  {
   "cell_type": "code",
   "execution_count": null,
   "id": "37768647-bf85-4a80-bc26-72c6e0c396e6",
   "metadata": {},
   "outputs": [],
   "source": [
    "proportional_analysis = sc.AnnData(scaled[scaled.columns[scaled.dtypes == 'float32']])\n",
    "proportional_analysis.obs = scaled[scaled.columns[scaled.dtypes != 'float32']]"
   ]
  },
  {
   "cell_type": "code",
   "execution_count": null,
   "id": "f77260cc-0cf7-4eb0-83d9-f5197e1ed453",
   "metadata": {
    "tags": []
   },
   "outputs": [],
   "source": [
    "sc.tl.pca(proportional_analysis)\n",
    "sc.pl.pca(proportional_analysis, color='timepoint', size=100, components=['1, 2', '3, 4', '1, 3', '2, 3'], save='ratio_pca_plot.pdf')"
   ]
  },
  {
   "cell_type": "code",
   "execution_count": null,
   "id": "2dfe8ea1-81e0-4843-8dc8-6cb1b8a1a587",
   "metadata": {},
   "outputs": [],
   "source": [
    "palette = sns.color_palette(\"deep\", len(proportional_analysis.obs['timepoint'].unique()))\n",
    "timepoint_palette = {timepoint: palette[i] for i, timepoint in enumerate(proportional_analysis.obs['timepoint'].cat.categories)}\n",
    "fig, ax = plt.subplots(figsize=(6, 8))\n",
    "\n",
    "pca_coords = proportional_analysis.obsm['X_pca'][:, :2]\n",
    "timepoints = proportional_analysis.obs['timepoint']\n",
    "means = pd.DataFrame(pca_coords, columns=['PC1', 'PC2'], index=timepoints.index).groupby(timepoints).mean()\n",
    "\n",
    "for timepoint, mean_coords in means.iterrows():\n",
    "    ax.scatter(mean_coords['PC1'], mean_coords['PC2'], color=timepoint_palette[timepoint], marker='x', s=300, linewidths=3, label=f\"Mean {timepoint}\")\n",
    "    \n",
    "sc.pl.pca(proportional_analysis, color='timepoint', size=200, components=['1, 2'],\n",
    "          palette=timepoint_palette,\n",
    "          save=False, show=False, ax=ax)\n",
    "\n",
    "plt.legend(loc='center left', bbox_to_anchor=(1, 0.5))\n",
    "fig.savefig('figure4_new/proportion_plot_timepoints.svg')\n",
    "plt.show()"
   ]
  },
  {
   "cell_type": "code",
   "execution_count": null,
   "id": "bd378214-1d69-4413-9c6e-07074a440683",
   "metadata": {},
   "outputs": [],
   "source": [
    "import milopy\n",
    "import milopy.core as milo"
   ]
  },
  {
   "cell_type": "code",
   "execution_count": null,
   "id": "ea156610-a518-4bc7-9db6-f7ecc02a2095",
   "metadata": {},
   "outputs": [],
   "source": [
    "sub_sub = sub[sub.obs['timepoint'].isin(['D0', 'D35'])]"
   ]
  },
  {
   "cell_type": "code",
   "execution_count": null,
   "id": "8937291a-61d9-47ab-a8bf-86eaf6c72a1a",
   "metadata": {},
   "outputs": [],
   "source": [
    "sc.pp.neighbors(sub_sub, n_neighbors=100, use_rep='X_resolVI', method='rapids')\n",
    "milo.make_nhoods(sub_sub, prop=0.1)\n",
    "milo.count_nhoods(sub_sub, sample_col=\"Slice_ID\")\n",
    "milo.DA_nhoods(sub_sub, design=\"~ timepoint\")\n",
    "milo_results = sub_sub.uns[\"nhood_adata\"].obs\n",
    "milopy.utils.build_nhood_graph(sub_sub)"
   ]
  },
  {
   "cell_type": "code",
   "execution_count": null,
   "id": "87d21894-31c2-412c-9b1c-7073ba05f29d",
   "metadata": {},
   "outputs": [],
   "source": [
    "milopy.plot.plot_nhood_graph(sub_sub, alpha=0.05, min_size=0.1, min_logFC=0.5, save='ct_ct_embedding_d0_d35.pdf')"
   ]
  },
  {
   "cell_type": "code",
   "execution_count": null,
   "id": "89b71de6-deab-41b4-8afc-43751e58e5ae",
   "metadata": {},
   "outputs": [],
   "source": [
    "milopy.utils.annotate_nhoods(sub_sub, anno_col='predicted_celltype')"
   ]
  },
  {
   "cell_type": "code",
   "execution_count": null,
   "id": "c008114c-a956-4c3b-ba26-18bbacce3f3b",
   "metadata": {},
   "outputs": [],
   "source": [
    "plt.hist(sub_sub.uns['nhood_adata'].obs[\"nhood_annotation_frac\"]);\n",
    "plt.xlabel(\"celltype fraction\")"
   ]
  },
  {
   "cell_type": "code",
   "execution_count": null,
   "id": "cfa39eb6-4d90-4283-9fbd-ee855b623802",
   "metadata": {},
   "outputs": [],
   "source": [
    "sub_sub.uns['nhood_adata'].obs.loc[sub_sub.uns['nhood_adata'].obs[\"nhood_annotation_frac\"] < 0.4, \"nhood_annotation\"] = \"Mixed\""
   ]
  },
  {
   "cell_type": "code",
   "execution_count": null,
   "id": "3b6eb390-36c2-436e-b52a-654d0fe31f96",
   "metadata": {},
   "outputs": [],
   "source": [
    "sc.pl.violin(sub_sub.uns['nhood_adata'], \"logFC\", groupby=\"nhood_annotation\", rotation=90, show=False,\n",
    "             order=['Stem cells', 'TA', 'Colonocytes', 'Fibro 2', 'Fibro 6', 'Fibro 4', 'Fibro 7', 'IAF 2', 'Plasma cell'])\n",
    "plt.axhline(y=0, color='black', linestyle='--')\n",
    "plt.tight_layout()\n",
    "plt.savefig('figure4_new/milo_da_d0_d35.pdf', bbox_inches='tight')\n",
    "plt.show()"
   ]
  },
  {
   "cell_type": "code",
   "execution_count": null,
   "id": "a9165b03-a633-4365-9e4a-8495c817eb09",
   "metadata": {},
   "outputs": [],
   "source": [
    "fibroblast = [\n",
    " 'Fibro 12',\n",
    " 'Fibro 5',\n",
    " 'Fibro 15',\n",
    " 'Fibro 7',\n",
    " 'Fibro 2',\n",
    " 'Fibro 13',\n",
    " 'Fibro 6',\n",
    " 'Fibro 4',\n",
    " 'Fibro 1',\n",
    " 'IAF 2',\n",
    " 'IAF 3',]"
   ]
  },
  {
   "cell_type": "code",
   "execution_count": null,
   "id": "a739f359-b895-4ae8-93e2-f5b9efd8130a",
   "metadata": {},
   "outputs": [],
   "source": [
    "sc.pl.violin(sub_sub.uns['nhood_adata'], \"logFC\", groupby=\"nhood_annotation\", rotation=90, show=False,\n",
    "             order=fibroblast)\n",
    "plt.axhline(y=0, color='black', linestyle='--')\n",
    "plt.tight_layout()\n",
    "plt.savefig('figure4_new/milo_da_d0_d35.pdf', bbox_inches='tight')\n",
    "plt.show()"
   ]
  },
  {
   "cell_type": "code",
   "execution_count": null,
   "id": "eba449a7-ea08-4670-8722-3672d3f6e11f",
   "metadata": {},
   "outputs": [],
   "source": [
    "sub_sub.obs['milo_lfc'] = sub_sub.uns['nhood_adata'].obs['logFC']\n",
    "sub_sub.obs['FDR'] = sub_sub.uns['nhood_adata'].obs['FDR']"
   ]
  },
  {
   "cell_type": "code",
   "execution_count": null,
   "id": "95dc0e7a-471c-4bbd-960f-3d86945443fb",
   "metadata": {},
   "outputs": [],
   "source": [
    "from sklearn.impute import KNNImputer"
   ]
  },
  {
   "cell_type": "code",
   "execution_count": null,
   "id": "d3a519ec-0332-478f-8bff-47130466938c",
   "metadata": {},
   "outputs": [],
   "source": [
    "latent = pd.DataFrame(sub_sub.obsm['X_resolVI'])\n",
    "latent['milo_lfc'] = (sub_sub.obs['milo_lfc'] * (sub_sub.obs['FDR']<0.05))"
   ]
  },
  {
   "cell_type": "code",
   "execution_count": null,
   "id": "363efd4f-4058-4225-8660-f45a0264bbb1",
   "metadata": {},
   "outputs": [],
   "source": [
    "pd.options.display.max_rows=500"
   ]
  },
  {
   "cell_type": "code",
   "execution_count": null,
   "id": "94b0b198-dd56-481c-a138-e8bc8ea8146a",
   "metadata": {},
   "outputs": [],
   "source": [
    "imputer = KNNImputer(n_neighbors=20)\n",
    "b = imputer.fit_transform(latent)\n",
    "sub_sub.obs['milo_lfc_imputed'] = b[:, -1]"
   ]
  },
  {
   "cell_type": "code",
   "execution_count": null,
   "id": "1468d8ea-d553-407c-a0eb-6674f9ede5f4",
   "metadata": {},
   "outputs": [],
   "source": [
    "sub_sub.obs['milo_lfc_thresholded'] = [i if abs(i)>1.5 else None for i in sub_sub.obs['milo_lfc_imputed']] "
   ]
  },
  {
   "cell_type": "code",
   "execution_count": null,
   "id": "746a69d6-d892-4745-bea9-dca269d469b2",
   "metadata": {},
   "outputs": [],
   "source": [
    "sub_sub.obs['highlight_celltype'] = [i if i in ['Stem cells', 'TA', 'Colonocytes', 'Fibro 2', 'Fibro 6', 'Fibro 4', 'Fibro 7', 'IAF 2', 'Plasma cell'] else None for i in sub_sub.obs['Tier3']]"
   ]
  },
  {
   "cell_type": "code",
   "execution_count": null,
   "id": "b97cb787-9de2-40ad-b3b8-fb1c021474d9",
   "metadata": {},
   "outputs": [],
   "source": [
    "sc.pl.spatial(\n",
    "    sub_sub[sub_sub.obs['Slice_ID']=='082421_D0_m6_1_slice_1'], spot_size=8, layer='generated_expression', color=['milo_lfc_thresholded'], title='082421_D0_m6_1_slice_1', ncols=1,\n",
    "    save='d0_milo_spatial_plot.pdf', cmap='seismic', vmax=5, vmin=-5\n",
    ")"
   ]
  },
  {
   "cell_type": "code",
   "execution_count": null,
   "id": "6e0e3f55-26cd-45f0-96fe-262c87c80270",
   "metadata": {},
   "outputs": [],
   "source": [
    "sc.pl.spatial(\n",
    "    sub_sub[sub_sub.obs['Slice_ID']=='072523_D35_m6_1_slice_3'], spot_size=8, layer='generated_expression', color=['milo_lfc_thresholded'], title='072523_D35_m6_1_slice_3', ncols=1,\n",
    "    save='d35_milo_spatial_plot.pdf', cmap='seismic', vmax=5, vmin=-5\n",
    ")"
   ]
  },
  {
   "cell_type": "code",
   "execution_count": null,
   "id": "f33940b1-3710-49ed-8cc6-c24494c6a271",
   "metadata": {},
   "outputs": [],
   "source": [
    "with plt.rc_context({\"figure.figsize\": (8, 8), \"figure.dpi\": (300)}):\n",
    "    sc.pl.spatial(\n",
    "        sub[\n",
    "            np.logical_and(sub.obs['Slice_ID']=='082421_D0_m6_1_slice_1', sub.obs['predicted_celltype_coarse']=='Epithelial')],\n",
    "        spot_size=15, layer='generated_expression',\n",
    "        color=['Cldn23', 'Bmp2', 'Il22ra1', 'Cldn4', 'Oasl1', 'Edn1', 'Timp3', 'Bmp3', 'Dusp1', 'Itgb6', 'Tnfaip3', 'Itgav', 'Nf2', 'Yap1', 'Ltbr'],\n",
    "        ncols=5, cmap='Reds', save='epithelial_gexp_d0.pdf', vmax=[8, 18, 14, 14, 14, 16, 8, 4, 5, 4, 5, 4, 6, 5, 4]\n",
    "    )"
   ]
  },
  {
   "cell_type": "code",
   "execution_count": null,
   "id": "2c10863e-bfeb-4292-9d28-5e87bc924146",
   "metadata": {},
   "outputs": [],
   "source": [
    "with plt.rc_context({\"figure.figsize\": (8, 8), \"figure.dpi\": (300)}):\n",
    "    sc.pl.spatial(\n",
    "        sub[\n",
    "            np.logical_and(sub.obs['Slice_ID']=='072523_D35_m6_1_slice_3', sub.obs['predicted_celltype_coarse']=='Epithelial')],\n",
    "        spot_size=15, layer='generated_expression',\n",
    "        color=['Cldn23', 'Bmp2', 'Il22ra1', 'Cldn4', 'Oasl1', 'Edn1', 'Timp3', 'Bmp3', 'Dusp1', 'Itgb6', 'Tnfaip3', 'Itgav', 'Nf2', 'Yap1', 'Ltbr'],\n",
    "        ncols=5, cmap='Reds', save='epithelial_gexp_d35.pdf', vmax=[8, 18, 14, 14, 14, 16, 8, 4, 5, 4, 5, 4, 6, 5, 4]\n",
    "    )"
   ]
  },
  {
   "cell_type": "code",
   "execution_count": null,
   "id": "edbeb84f-6445-4be7-ae8d-9c24cd1d871a",
   "metadata": {},
   "outputs": [],
   "source": [
    "with plt.rc_context({\"figure.figsize\": (8, 8), \"figure.dpi\": (300)}):\n",
    "    sc.pl.spatial(\n",
    "        sub_sub[\n",
    "            np.logical_and(sub_sub.obs['Slice_ID']=='082421_D0_m6_1_slice_1', sub_sub.obs['predicted_celltype_coarse']=='Fibroblast')],\n",
    "        spot_size=15, layer='generated_expression', color=['Vegfa', 'Tnc', 'F3','Adamdec1', 'Col27a1', 'Igfbp5', 'Tgfbr3', 'Bmp2', 'Bmp5', 'Bmp7'], ncols=5,\n",
    "        vmax=[4, 2, 2, 8, 2, 8, 4, 1, 3, 1.5], cmap='Reds', save='fibroblast_gexp_d0.pdf'\n",
    "    )"
   ]
  },
  {
   "cell_type": "code",
   "execution_count": null,
   "id": "8c93e56a-b3d8-4c4b-85b0-9f57010c17c5",
   "metadata": {},
   "outputs": [],
   "source": [
    "with plt.rc_context({\"figure.figsize\": (8, 8), \"figure.dpi\": (300)}):\n",
    "    sc.pl.spatial(\n",
    "        sub_sub[\n",
    "            np.logical_and(sub_sub.obs['Slice_ID']=='072523_D35_m6_1_slice_3', sub_sub.obs['predicted_celltype_coarse']=='Fibroblast')],\n",
    "        spot_size=15, layer='generated_expression', color=['Vegfa', 'Tnc', 'F3','Adamdec1', 'Col27a1', 'Igfbp5', 'Tgfbr3', 'Bmp2', 'Bmp5', 'Bmp7'], ncols=5,\n",
    "        vmax=[4, 2, 2, 8, 2, 8, 4, 1, 3, 1.5], cmap='Reds', save='fibroblast_gexp_d35.pdf'\n",
    "    )"
   ]
  },
  {
   "cell_type": "code",
   "execution_count": null,
   "id": "00022c8b-7059-4204-a40d-06f4ce7acaab",
   "metadata": {},
   "outputs": [],
   "source": [
    "sub_sub2 = sub_sub.copy()\n",
    "sub_sub2.obsm['X_umap'] = sub_sub2.obsm['X_tsne']"
   ]
  },
  {
   "cell_type": "code",
   "execution_count": null,
   "id": "e76472c0-1568-4abd-bb56-516b828ed3b4",
   "metadata": {
    "tags": []
   },
   "outputs": [],
   "source": [
    "sub_sub2.obsm['celltypes_neighborhood_'] = sub_sub2.obsm['celltypes_neighborhood'].values\n",
    "sc.pp.neighbors(sub_sub2, n_neighbors=100, use_rep='celltypes_neighborhood_', method='rapids')\n",
    "milo.make_nhoods(sub_sub2, prop=0.1)\n",
    "milo.count_nhoods(sub_sub2, sample_col=\"Slice_ID\")\n",
    "milo.DA_nhoods(sub_sub2, design=\"~ timepoint\")\n",
    "milo_results = sub_sub2.uns[\"nhood_adata\"].obs\n",
    "milopy.utils.build_nhood_graph(sub_sub2)\n",
    "milopy.plot.plot_nhood_graph(sub_sub2, alpha=0.05, min_size=0.1, min_logFC=0.5, save='niche_d0_d35')"
   ]
  }
 ],
 "metadata": {
  "kernelspec": {
   "display_name": "hub_paper",
   "language": "python",
   "name": "hub_paper"
  },
  "language_info": {
   "codemirror_mode": {
    "name": "ipython",
    "version": 3
   },
   "file_extension": ".py",
   "mimetype": "text/x-python",
   "name": "python",
   "nbconvert_exporter": "python",
   "pygments_lexer": "ipython3",
   "version": "3.10.0"
  }
 },
 "nbformat": 4,
 "nbformat_minor": 5
}
