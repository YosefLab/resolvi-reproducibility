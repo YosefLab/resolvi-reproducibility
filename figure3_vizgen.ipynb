{
 "cells": [
  {
   "cell_type": "code",
   "execution_count": null,
   "id": "8ea87a90-00fb-44d6-83d5-96dcb76b5fcb",
   "metadata": {},
   "outputs": [],
   "source": [
    "# !curl https://datasets.cellxgene.cziscience.com/0401c761-2112-4f10-ae7d-6d5e04b5e1a4.h5ad -O liver_nanostring/sc_reference.h5ad"
   ]
  },
  {
   "cell_type": "code",
   "execution_count": null,
   "id": "8256ad61-b10b-45e8-af56-822ef432c141",
   "metadata": {},
   "outputs": [],
   "source": [
    "import sys\n",
    "sys.path.insert(0,'/home/cane/Documents/yoseflab/can/resolVI')\n",
    "from scvi.external import RESOLVI"
   ]
  },
  {
   "cell_type": "code",
   "execution_count": null,
   "id": "9321c37a-5693-4030-a8ae-51c30b644291",
   "metadata": {},
   "outputs": [],
   "source": [
    "import scanpy as sc\n",
    "import pandas as pd\n",
    "import numpy as np\n",
    "import scvi\n",
    "import matplotlib.pyplot as plt\n",
    "import seaborn as sns"
   ]
  },
  {
   "cell_type": "code",
   "execution_count": null,
   "id": "53ec8347-fa42-48d3-9178-73774f0a881a",
   "metadata": {},
   "outputs": [],
   "source": [
    "sys.path.insert(0, '.')\n",
    "import _utils"
   ]
  },
  {
   "cell_type": "code",
   "execution_count": null,
   "id": "f0d20721-911f-40d0-9afd-42a9085c6cad",
   "metadata": {},
   "outputs": [],
   "source": [
    "scvi.settings.seed = 0\n",
    "sc.set_figure_params(dpi=100, dpi_save=300, format='png', frameon=False, vector_friendly=True, fontsize=14, color_map='viridis', figsize=None)\n",
    "sc.settings.figdir = 'figure3_vizgen/'"
   ]
  },
  {
   "cell_type": "markdown",
   "id": "37b88814-9386-49e4-a4cf-d0e240f5cb5b",
   "metadata": {
    "tags": []
   },
   "source": [
    "# Benchmarking"
   ]
  },
  {
   "cell_type": "code",
   "execution_count": null,
   "id": "adcdb510-7f29-4bba-842c-477f0a8b785b",
   "metadata": {},
   "outputs": [],
   "source": [
    "nanostring = {}"
   ]
  },
  {
   "cell_type": "code",
   "execution_count": null,
   "id": "2b7fc0fe-ddab-46d0-9ec5-0c8cef8424bc",
   "metadata": {},
   "outputs": [],
   "source": [
    "path = '/external_data/other/resolvi_final_other_files/liver_cancer_vizgen/'\n",
    "segmentations = ['baysor', 'original', 'proseg', 'cellpose_triplez', 'cellpose_singlez', 'cellpose_nuclei']"
   ]
  },
  {
   "cell_type": "code",
   "execution_count": null,
   "id": "463a1b07-f635-463e-962a-27682ac48709",
   "metadata": {},
   "outputs": [],
   "source": [
    "for i in segmentations:\n",
    "    nanostring[i] = sc.read_h5ad(f'{path}{i}/complete_adata.h5ad')\n",
    "    ad = sc.read_h5ad(f'{path}{i}_semisupervised/complete_adata.h5ad')\n",
    "    nanostring[i].obsm['X_resolvi_semisupervised'] = ad.obsm['X_resolvi']\n",
    "    nanostring[i].layers['generated_expression_semisupervised'] = ad.layers['generated_expression']"
   ]
  },
  {
   "cell_type": "code",
   "execution_count": null,
   "id": "38bd7dc6-e0b3-4c3f-bb0f-90d325f3111e",
   "metadata": {},
   "outputs": [],
   "source": [
    "nanostring[i].obs['total_counts'] = nanostring[i].layers['raw_counts'].sum(1)"
   ]
  },
  {
   "cell_type": "code",
   "execution_count": null,
   "id": "7a3e396f-3025-4111-8fe7-5c6eae8021e3",
   "metadata": {},
   "outputs": [],
   "source": [
    "import os"
   ]
  },
  {
   "cell_type": "code",
   "execution_count": null,
   "id": "1eae7b30-c245-4ce4-9bde-3878fa2cd417",
   "metadata": {},
   "outputs": [],
   "source": [
    "nanostring = {}"
   ]
  },
  {
   "cell_type": "code",
   "execution_count": null,
   "id": "0c8e8339-b21a-4061-bf86-91585e9d017e",
   "metadata": {
    "tags": []
   },
   "outputs": [],
   "source": [
    "for key in segmentations:\n",
    "    if os.path.exists(f'{path}{key}/complete_adata_filtered.h5ad'):\n",
    "        nanostring[key] = sc.read_h5ad(f'{path}{key}/complete_adata_filtered.h5ad')\n",
    "        continue\n",
    "    print(key)\n",
    "    nanostring[key].obs['total_counts'] = nanostring[key].layers['raw_counts'].sum(1)\n",
    "    nanostring[key].obs['true_counts'] = nanostring[key].obs['total_counts'] * nanostring[key].obs['true_proportion']\n",
    "    nanostring[key] = nanostring[key][nanostring[key].obs['true_counts'] > 20].copy()\n",
    "    _utils.compute_umap_embedding(nanostring[key], representation_key=\"X_resolvi_semisupervised\", n_comps=None, show=True, key='resolvi_latent_semisupervised', n_neighbors=20, extra_save=key)\n",
    "    _utils.compute_umap_embedding(nanostring[key], representation_key=\"X_resolVI\", n_comps=None, show=True, key='resolvi_latent', n_neighbors=20, extra_save=key)\n",
    "    _utils.compute_umap_embedding(nanostring[key], representation_key=\"raw_counts\", show=True, key='raw_counts', n_neighbors=20, extra_save=key)\n",
    "    _utils.compute_umap_embedding(nanostring[key], representation_key=\"raw_counts\", show=True, key='raw_counts_harmony', n_neighbors=20, extra_save=key, batch_key='patient')\n",
    "    _utils.compute_umap_embedding(nanostring[key], representation_key=\"generated_expression\", show=True, key='resolvi_generated', n_neighbors=20, extra_save=key)\n",
    "    _utils.compute_umap_embedding(nanostring[key], representation_key=\"corrected_counts\", show=True, key='resolvi_corrected', n_neighbors=20, extra_save=key)\n",
    "    nanostring[key].write_h5ad(f'{path}{key}/complete_adata_filtered.h5ad')"
   ]
  },
  {
   "cell_type": "code",
   "execution_count": null,
   "id": "e6f5be90-fa2e-4bd4-8a4a-4258ace13a9c",
   "metadata": {},
   "outputs": [],
   "source": [
    "def plot_umap_embedding(adata, key, ax, color='cluster'):\n",
    "    adata.obsm['X_umap'] = adata.obsm[f'X_umap_{key}']\n",
    "    sc.pl.umap(adata, color=color, frameon=False, show=False, ax=ax)"
   ]
  },
  {
   "cell_type": "code",
   "execution_count": null,
   "id": "e350ac8c-6aa2-4d62-8e53-58917ae2f070",
   "metadata": {
    "tags": []
   },
   "outputs": [],
   "source": [
    "fig, axs = plt.subplots(6, 8, figsize=(30, 20))\n",
    "\n",
    "# Iterate over each AnnData object and each axis\n",
    "for ind, key in enumerate(nanostring):\n",
    "    print(key)\n",
    "    plot_umap_embedding(nanostring[key], key='resolvi_latent_semisupervised', ax=axs[ind, 0])\n",
    "    axs[ind, 0].get_legend().remove()\n",
    "    axs[ind, 0].set_title(key)\n",
    "    plot_umap_embedding(nanostring[key], key='resolvi_latent_semisupervised', ax=axs[ind, 1], color='patient')\n",
    "    axs[ind, 1].get_legend().remove()\n",
    "    plot_umap_embedding(nanostring[key], key='resolvi_latent', ax=axs[ind, 2])\n",
    "    axs[ind, 2].get_legend().remove()\n",
    "    plot_umap_embedding(nanostring[key], key='resolvi_latent', ax=axs[ind, 3], color='patient')\n",
    "    axs[ind, 3].get_legend().remove()\n",
    "    plot_umap_embedding(nanostring[key], key='raw_counts', ax=axs[ind, 4])\n",
    "    axs[ind, 4].get_legend().remove()\n",
    "    plot_umap_embedding(nanostring[key], key='raw_counts', ax=axs[ind, 5], color='patient')\n",
    "    axs[ind, 5].get_legend().remove()\n",
    "    plot_umap_embedding(nanostring[key], key='raw_counts_harmony', ax=axs[ind, 6])\n",
    "    plot_umap_embedding(nanostring[key], key='raw_counts_harmony', ax=axs[ind, 7], color='patient')\n",
    "\n",
    "# Adjust layout\n",
    "#plt.tight_layout()\n",
    "plt.savefig('figure3_vizgen/umap_comparison.pdf')\n",
    "plt.show()"
   ]
  },
  {
   "cell_type": "code",
   "execution_count": null,
   "id": "3a8cf9ff-41c1-4940-85b2-90f95458486c",
   "metadata": {
    "tags": []
   },
   "outputs": [],
   "source": [
    "from contextlib import contextmanager\n",
    "from scib_metrics.benchmark import Benchmarker\n",
    "\n",
    "@contextmanager\n",
    "def default_rcparams():\n",
    "    default_params = plt.rcParams.copy()  # Store current rcParams\n",
    "    plt.rcdefaults()   # Reset all rcParams to their defaults\n",
    "    yield\n",
    "    plt.rcParams.update(default_params)   # Restore rcParams to their original values\n",
    "\n",
    "for key in nanostring:\n",
    "    if key in ['baysor']: # os.path.exists(f'figure3_vizgen/scib_results_{key}.csv'):\n",
    "        continue\n",
    "    print(key)\n",
    "    #sub = sc.pp.subsample(, n_obs=100000, copy=True)\n",
    "    bm = Benchmarker(\n",
    "        nanostring[key],\n",
    "        batch_key=\"patient\",\n",
    "        label_key=\"cluster\",\n",
    "        embedding_obsm_keys=[\"X_resolVI\", \"X_resolvi_semisupervised\", \"X_pca_raw_counts_harmony\", \"X_pca_raw_counts\"],\n",
    "        pre_integrated_embedding_obsm_key='X_pca_raw_counts',\n",
    "        n_jobs=12,\n",
    "    )\n",
    "    bm.benchmark()\n",
    "    bm._results = bm._results.drop('pcr_comparison', axis=0)\n",
    "    try:\n",
    "        os.mkdir(f'figure3_vizgen/{key}/')\n",
    "    except:\n",
    "        pass\n",
    "    bm.plot_results_table(min_max_scale=False, save_dir=f'figure3_vizgen/{key}/')\n",
    "    bm.get_results(min_max_scale=False).to_csv(f'figure3_vizgen/scib_results_{key}.csv')"
   ]
  },
  {
   "cell_type": "code",
   "execution_count": null,
   "id": "ad7913c6-c432-4b9d-9653-a468f3011180",
   "metadata": {},
   "outputs": [],
   "source": [
    "import json"
   ]
  },
  {
   "cell_type": "code",
   "execution_count": null,
   "id": "04305331-d666-4eec-a13c-77ec1db2b0c1",
   "metadata": {},
   "outputs": [],
   "source": [
    "sc_reference = sc.read('sc_reference_liver.h5ad')"
   ]
  },
  {
   "cell_type": "code",
   "execution_count": null,
   "id": "f87c9645-945e-490e-bc0b-d30d145ee95e",
   "metadata": {},
   "outputs": [],
   "source": [
    "sc_reference.X = sc_reference.raw.X"
   ]
  },
  {
   "cell_type": "code",
   "execution_count": null,
   "id": "503693ec-03af-4ec5-9fbe-f6eaf764a0da",
   "metadata": {},
   "outputs": [],
   "source": [
    "sc_reference = sc_reference[sc_reference.obs['disease']=='normal']\n",
    "sc_reference.obs['author_cell_type'].value_counts()"
   ]
  },
  {
   "cell_type": "code",
   "execution_count": null,
   "id": "d98e68f8-6375-43b6-8fe1-0ecc87b61050",
   "metadata": {},
   "outputs": [],
   "source": [
    "sc_reference.obs['coarse_ct'] = sc_reference.obs['author_cell_type'].astype(str).map({\n",
    "    'P-Hepato': 'Hepatocyte',\n",
    "    'C-Hepato': 'Hepatocyte',\n",
    "    'P-Hepato2': 'Hepatocyte',\n",
    "    'C-Hepato2': 'Hepatocyte',\n",
    "    'cvLSEC': 'Endothelial',\n",
    "    'Hepato-Doublet': 'low quality',\n",
    "    'Chol': 'Cholangiocyte',\n",
    "    'Stellate': 'Fibroblast',\n",
    "    'cvLSEC-Doublet': 'low quality',\n",
    "    'ppLSEC': 'Endothelial',\n",
    "    'Stellate-Doublet': 'low quality',\n",
    "    'Prolif': 'low quality', \n",
    "    'aStellate': 'Fibroblast',\n",
    "    'Monocyte': 'Myeloid',\n",
    "    'I-Hepato': 'Hepatocyte',\n",
    "    'Kupffer': 'Myeloid',\n",
    "    'Kupffer-Doublet': 'low quality', \n",
    "    'CD4T': 'Lympho',\n",
    "    'Chol-Doublet': 'low quality',\n",
    "    'lrNK': 'Lympho',\n",
    "    'cvEndo': 'Endothelial',\n",
    "    'Tcell-Doublet': 'low quality',\n",
    "    'Fibroblast': 'Fibroblast',\n",
    "    'CholMucus': 'Cholangiocyte',\n",
    "    'VSMC': 'Fibroblast',\n",
    "    'AntiB': 'Bcell',\n",
    "    'cvLSEC--Mac': 'low quality',\n",
    "    'Chol--Stellate-Doublet': 'low quality',\n",
    "    'Prolif-Mac': 'low quality',\n",
    "    'Chol--Kupffer-Doublet': 'low quality'\n",
    "})\n",
    "sc_reference = sc_reference[~(sc_reference.obs['coarse_ct']=='low quality')]"
   ]
  },
  {
   "cell_type": "code",
   "execution_count": null,
   "id": "747aadaf-44a8-4673-818c-8eaf03f8b821",
   "metadata": {},
   "outputs": [],
   "source": [
    "sc_reference.var_names = sc_reference.var['feature_name'].astype(str)\n",
    "sc_reference.var_names_make_unique()\n",
    "sc_reference.obs_names_make_unique()\n",
    "sc_reference = sc_reference[:, np.intersect1d(nanostring['baysor'].var_names, sc_reference.var['feature_name'])].copy()"
   ]
  },
  {
   "cell_type": "code",
   "execution_count": null,
   "id": "c3b1fb16-ab47-4263-88d5-e7fa9a1a84d4",
   "metadata": {},
   "outputs": [],
   "source": [
    "sc_reference.layers['counts'] = sc_reference.X.copy()\n",
    "sc.pp.normalize_total(sc_reference, layers=['counts'], target_sum=1e4)\n",
    "sc_reference.obsm['counts'] = pd.DataFrame(sc_reference.layers['counts'].A, columns=sc_reference.var_names, index=sc_reference.obs_names)"
   ]
  },
  {
   "cell_type": "code",
   "execution_count": null,
   "id": "14067ec2-8aa0-471f-86fd-4db3c64cafe4",
   "metadata": {
    "jupyter": {
     "outputs_hidden": true
    },
    "tags": []
   },
   "outputs": [],
   "source": [
    "_utils.double_positive_pmm(sc_reference, sc_reference.var_names, layer_key=\"counts\", output_dir='figure3')"
   ]
  },
  {
   "cell_type": "code",
   "execution_count": null,
   "id": "a9b898a8-09d3-4d91-a907-ef7bb4436265",
   "metadata": {},
   "outputs": [],
   "source": [
    "sc_reference.obsm['positive_pmm_counts']['celltype'] = sc_reference.obs['coarse_ct']\n",
    "per_celltype_positive = sc_reference.obsm['positive_pmm_counts'].groupby('celltype').mean()"
   ]
  },
  {
   "cell_type": "code",
   "execution_count": null,
   "id": "3b92f063-d91b-4550-b361-0b0df8f6beb6",
   "metadata": {},
   "outputs": [],
   "source": [
    "celltype_gene_dict = {}\n",
    "\n",
    "# Iterate over each column\n",
    "for col in per_celltype_positive.columns:\n",
    "    # Check if only one value is above 0.2 and all other values are below 0.05\n",
    "    if (per_celltype_positive[col] > 0.2).sum() == 1 and (per_celltype_positive[col] < 0.1).sum() == len(per_celltype_positive) - 1:\n",
    "        # Get the celltype for which the value is above 0.2\n",
    "        celltype = per_celltype_positive[per_celltype_positive[col] > 0.2].index[0]\n",
    "        # If the celltype is not in the result dictionary, add it with an empty list\n",
    "        if celltype not in celltype_gene_dict:\n",
    "            celltype_gene_dict[celltype] = []\n",
    "        # Append the column (gene) to the list of genes for this celltype\n",
    "        celltype_gene_dict[celltype].append(col)"
   ]
  },
  {
   "cell_type": "code",
   "execution_count": null,
   "id": "a6993b8f-428d-4252-b6f6-91dd55330350",
   "metadata": {},
   "outputs": [],
   "source": [
    "#celltype_gene_dict['Bcell'].remove('CD27')\n",
    "celltype_gene_dict['Bcell'].remove('SELL')\n",
    "#celltype_gene_dict.pop('Cholangiocyte')\n",
    "#celltype_gene_dict.pop('Hepatocyte')\n",
    "celltype_gene_dict"
   ]
  },
  {
   "cell_type": "code",
   "execution_count": null,
   "id": "92909e4f-0eaa-4a32-a23c-75468ffbfb78",
   "metadata": {},
   "outputs": [],
   "source": [
    "#with open('/home/cane/Documents/yoseflab/can/resolVI-eval/liver_nanostring/celltype_markers.json', \"r\") as j:\n",
    "#    marker_dict = json.load(j)\n",
    "marker_dict = celltype_gene_dict\n",
    "marker_list_ = sum(marker_dict.values(), [])\n",
    "marker_list = []\n",
    "_ = [marker_list.append(x) for x in marker_list_ if x not in marker_list]\n",
    "marker_dict"
   ]
  },
  {
   "cell_type": "code",
   "execution_count": null,
   "id": "6d349efd-004c-4f88-b3d4-8323c10e2999",
   "metadata": {},
   "outputs": [],
   "source": [
    "import json\n",
    "with open('figure3_vizgen/celltype_markers_sc_ref.json', 'w') as fp:\n",
    "    json.dump(marker_dict, fp)"
   ]
  },
  {
   "cell_type": "code",
   "execution_count": null,
   "id": "d0959ea1-6775-4777-b466-75c6a4acaa0e",
   "metadata": {},
   "outputs": [],
   "source": [
    "import json\n",
    "with open('figure3_vizgen/celltype_markers_sc_ref.json', 'r') as fp:\n",
    "    marker_dict = json.load(fp)"
   ]
  },
  {
   "cell_type": "code",
   "execution_count": null,
   "id": "1737caf8-181a-41a4-9308-af21b18d0fc4",
   "metadata": {
    "tags": []
   },
   "outputs": [],
   "source": [
    "for key in nanostring:\n",
    "    sc.pp.normalize_total(nanostring[key], target_sum=1e4, layers=['counts', 'generated_expression', 'generated_expression_semisupervised'])\n",
    "    nanostring[key].obsm['counts'] = pd.DataFrame(nanostring[key][:, marker_list].layers['counts'].A, columns=marker_list, index=nanostring[key].obs_names)\n",
    "    nanostring[key].obsm['generated_expression'] = pd.DataFrame(nanostring[key][:, marker_list].layers['generated_expression'].A,\n",
    "                                                                columns=marker_list, index=nanostring[key].obs_names)\n",
    "    nanostring[key].obsm['generated_expression_semisupervised'] = pd.DataFrame(nanostring[key][:, marker_list].layers['generated_expression_semisupervised'].A,\n",
    "                                                                columns=marker_list, index=nanostring[key].obs_names)\n",
    "    _utils.cosine_distance_celltype(\n",
    "        nanostring[key], marker_dict, layer_key=\"generated_expression\", output_dir='figure3_vizgen', extra_save=key, vmax=0.3)\n",
    "    plt.show()\n",
    "    _utils.cosine_distance_celltype(\n",
    "        nanostring[key], marker_dict, layer_key=\"generated_expression_semisupervised\", output_dir='figure3_vizgen', extra_save=key + '_semisupervised' , vmax=0.3)\n",
    "    plt.show()"
   ]
  },
  {
   "cell_type": "code",
   "execution_count": null,
   "id": "333a97ac-f5b6-4340-b6fd-bef6779a6e1e",
   "metadata": {
    "tags": []
   },
   "outputs": [],
   "source": [
    "for key in nanostring:\n",
    "    _utils.double_positive_pmm(\n",
    "        nanostring[key], marker_list, marker_dict=marker_dict, layer_key=\"generated_expression\", output_dir='figure3_vizgen', file_save=key)\n",
    "    _utils.double_positive_pmm(\n",
    "        nanostring[key], marker_list, marker_dict=marker_dict, layer_key=\"generated_expression_semisupervised\", output_dir='figure3_vizgen', file_save=key + '_semisupervised')\n",
    "    plt.show()"
   ]
  },
  {
   "cell_type": "code",
   "execution_count": null,
   "id": "f60e51a4-ba4a-4589-8692-583a78dab083",
   "metadata": {},
   "outputs": [],
   "source": [
    "key = 'proseg'\n",
    "sc.pp.normalize_total(nanostring[key], target_sum=1e4, layers=['estimated'])\n",
    "nanostring[key].obsm['estimated_expression'] = pd.DataFrame(nanostring[key][:, marker_list].layers['estimated'].A,\n",
    "                                                            columns=marker_list, index=nanostring[key].obs_names)"
   ]
  },
  {
   "cell_type": "code",
   "execution_count": null,
   "id": "d5c4cd87-aab2-410e-a7c0-b90535a9f31c",
   "metadata": {},
   "outputs": [],
   "source": [
    "_utils.double_positive_pmm(\n",
    "        nanostring[key], marker_list, marker_dict=marker_dict, layer_key=\"estimated_expression\", output_dir='figure3_vizgen', file_save=key + '_estimated')"
   ]
  },
  {
   "cell_type": "code",
   "execution_count": null,
   "id": "bc63a6a8-fa5b-46c8-87ec-32c4dd29a8ca",
   "metadata": {},
   "outputs": [],
   "source": [
    "from itertools import combinations, chain\n",
    "\n",
    "# Get all pairs across all lists\n",
    "all_genes = list(chain.from_iterable(celltype_gene_dict.values()))\n",
    "\n",
    "# Get all pairs within each list\n",
    "#celltype_gene_dict.pop('Vascular')\n",
    "within_pairs = {key: list(combinations(value, 2)) for key, value in celltype_gene_dict.items()}\n",
    "within_pairs = sum(within_pairs.values(), [])\n",
    "across_pairs = list(set(combinations(all_genes, 2)) - set(within_pairs))"
   ]
  },
  {
   "cell_type": "code",
   "execution_count": null,
   "id": "c9e48555-f5bd-470a-8ac2-0d65cecf244f",
   "metadata": {},
   "outputs": [],
   "source": [
    "def double_positive_boxplot(adata_dict, gene_pairs, save_key='', show=False):\n",
    "    index = pd.MultiIndex.from_tuples(gene_pairs)\n",
    "    dp_ct_counts = pd.DataFrame(index=index, columns=adata_dict.keys())\n",
    "    dp_ct_generated = pd.DataFrame(index=index, columns=adata_dict.keys())\n",
    "\n",
    "    for i in adata_dict.keys():\n",
    "        for gene_x, gene_y in gene_pairs:\n",
    "            subset = adata_dict[i]\n",
    "            positives_counts = subset.obsm['positive_pmm_counts'][[gene_x, gene_y]].sum(1)\n",
    "            positives_generated = subset.obsm[f'positive_pmm_generated_expression'][[gene_x, gene_y]].sum(1)\n",
    "            dp_ct_counts.loc[(gene_x, gene_y), i] = (np.sum(positives_counts==2) / np.sum(positives_counts>0) if np.sum(positives_counts)>0 else -0.01)\n",
    "            dp_ct_generated.loc[(gene_x, gene_y), i] = (np.sum(positives_generated==2) / np.sum(positives_generated>0) if np.sum(positives_generated)>0 else -0.01)\n",
    "\n",
    "    dp_ct_counts_df = pd.DataFrame(dp_ct_counts).melt()\n",
    "    dp_ct_generated_df = pd.DataFrame(dp_ct_generated).melt()\n",
    "\n",
    "    dp_ct_counts_df['source'] = 'Measured'\n",
    "    dp_ct_generated_df['source'] = 'Generated'\n",
    "\n",
    "    # Concatenate the dataframes\n",
    "    df = pd.concat([dp_ct_counts_df, dp_ct_generated_df])\n",
    "\n",
    "    # Create a color palette\n",
    "    palette = {'Measured': (1, 0, 0, 0.2), 'Generated': (0, 0, 1, 0.2)}  # red and blue with alpha=0.2\n",
    "    palette2 = {'Measured': (0.5, 0.5, 0.5, 0.2), 'Generated': (0.5, 0.5, 0.5, 0.2)}  # red and blue with alpha=0.2\n",
    "\n",
    "    # Create the dotplot\n",
    "    plt.figure(figsize=(12, 8))\n",
    "    sns.set(style='white')\n",
    "    violin_parts = sns.violinplot(df, y='value', x='variable', hue='source', palette=palette, split=True, inner=None)\n",
    "    for pc in violin_parts.collections:\n",
    "        pc.set_alpha(0.8)\n",
    "\n",
    "    # Create the boxplot with a third of the width and black color\n",
    "    sns.boxplot(df, y='value', x='variable', hue='source', width=0.6, palette=palette2, fliersize=1.5, gap=0.5)\n",
    "\n",
    "    plt.legend(bbox_to_anchor=(1.05, 1), loc='upper left')\n",
    "    plt.savefig(f'figure3_vizgen/overlapping_{save_key}.pdf')\n",
    "\n",
    "    if show:\n",
    "        plt.show()"
   ]
  },
  {
   "cell_type": "code",
   "execution_count": null,
   "id": "bb547fcd-ba4f-4b91-bdc8-942328e7d520",
   "metadata": {},
   "outputs": [],
   "source": [
    "double_positive_boxplot(nanostring, within_pairs, save_key=key + '_all', show=True)\n",
    "double_positive_boxplot(nanostring, across_pairs, save_key=key, show=True)"
   ]
  },
  {
   "cell_type": "code",
   "execution_count": null,
   "id": "4307d4ab-08f3-4a6e-8ee2-a715ea171ebf",
   "metadata": {},
   "outputs": [],
   "source": [
    "path = '/external_data/other/resolvi_final_other_files/liver_cancer_vizgen/'\n",
    "segmentations = ['baysor', 'original', 'proseg', 'cellpose_triplez', 'cellpose_singlez', 'cellpose_nuclei']\n",
    "sub = sc.read_h5ad(f'{path}{segmentations[3]}/complete_adata_filtered.h5ad')"
   ]
  },
  {
   "cell_type": "code",
   "execution_count": null,
   "id": "4e34c950-224b-403c-a97b-e56e37921337",
   "metadata": {},
   "outputs": [],
   "source": [
    "sc.pl.rank_genes_groups_dotplot(sub, layer='counts', standard_scale='var')"
   ]
  },
  {
   "cell_type": "code",
   "execution_count": null,
   "id": "1c01e6db-da39-44ee-8692-1ae591779f59",
   "metadata": {},
   "outputs": [],
   "source": []
  }
 ],
 "metadata": {
  "kernelspec": {
   "display_name": "resolvi_new",
   "language": "python",
   "name": "resolvi_new"
  },
  "language_info": {
   "codemirror_mode": {
    "name": "ipython",
    "version": 3
   },
   "file_extension": ".py",
   "mimetype": "text/x-python",
   "name": "python",
   "nbconvert_exporter": "python",
   "pygments_lexer": "ipython3",
   "version": "3.10.0"
  }
 },
 "nbformat": 4,
 "nbformat_minor": 5
}
