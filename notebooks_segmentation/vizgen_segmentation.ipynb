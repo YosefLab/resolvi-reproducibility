{
 "cells": [
  {
   "cell_type": "markdown",
   "id": "56e30353",
   "metadata": {},
   "source": [
    "# Custom segmentation Vizgen data\n",
    "\n",
    "We here provide commands to segment Vizgen data into the different segmentations. Raw data can be accessed via Vizgen. If data is not available there anymore, raw data can be requested with the corresponding authors.\n",
    "This notebook is not intended to be executed but rather is a collection of batch commands to execute segmentation and provides the commands used by us."
   ]
  },
  {
   "cell_type": "markdown",
   "id": "6b778158",
   "metadata": {},
   "source": [
    "## Read all format Vizgen to spatialdata"
   ]
  },
  {
   "cell_type": "code",
   "execution_count": 1,
   "id": "7d5a0788",
   "metadata": {},
   "outputs": [
    {
     "name": "stderr",
     "output_type": "stream",
     "text": [
      "/home/cane/miniconda3/envs/resolvi_new/lib/python3.10/site-packages/cudf/utils/_numba.py:110: UserWarning: Using CUDA toolkit version (12, 5) with CUDA driver version (12, 4) requires minor version compatibility, which is not yet supported for CUDA driver versions 12.0 and above. It is likely that many cuDF operations will not work in this state. Please install CUDA toolkit version (12, 4) to continue using cuDF.\n",
      "  warnings.warn(\n"
     ]
    }
   ],
   "source": [
    "import spatialdata_io"
   ]
  },
  {
   "cell_type": "code",
   "execution_count": 2,
   "id": "323eb0df",
   "metadata": {},
   "outputs": [],
   "source": [
    "import geopandas as gpd\n",
    "from shapely.geometry import Polygon\n",
    "from shapely import MultiPolygon\n",
    "import os\n",
    "from tqdm import tqdm"
   ]
  },
  {
   "cell_type": "code",
   "execution_count": 15,
   "id": "5d562a69",
   "metadata": {},
   "outputs": [],
   "source": [
    "import h5py\n",
    "import pandas as pd\n",
    "import geopandas as gpd\n",
    "from shapely.geometry import Polygon\n",
    "from shapely import MultiPolygon\n",
    "import os\n",
    "from tqdm import tqdm\n",
    "\n",
    "\n",
    "def read_boundary_hdf5(folder):\n",
    "    all_boundaries = {}\n",
    "    boundaries = None\n",
    "    for i in tqdm(os.listdir(folder + '/cell_boundaries/')):\n",
    "        with h5py.File(folder + '/cell_boundaries/' + i, \"r\") as f:\n",
    "            for key in f['featuredata'].keys():\n",
    "                if boundaries is not None:\n",
    "                    boundaries.loc[key] = MultiPolygon([Polygon(f['featuredata'][key]['zIndex_3']['p_0']['coordinates'][()][0])]) # doesn't matter which zIndex we use, MultiPolygon to work with read function in spatialdata-io\n",
    "                else:\n",
    "                    boundaries = gpd.GeoDataFrame(index=[key], geometry=MultiPolygon([Polygon(f['featuredata'][key]['zIndex_3']['p_0']['coordinates'][()][0])]))\n",
    "            all_boundaries[i] = boundaries\n",
    "            boundaries = None\n",
    "    all_concat = pd.concat(list(all_boundaries.values()))\n",
    "    all_concat = all_concat[~all_concat.index.duplicated(keep='first')] # hdf5 can contain duplicates with same cell_id and position, removing those\n",
    "    all_concat.rename_geometry('geometry_renamed', inplace=True)  # renaming to make it compatible with spatialdata-io\n",
    "    all_concat[\"EntityID\"] = all_concat.index  # renaming to make it compatible with spatialdata-io\n",
    "    all_concat['ZIndex'] = 0  # adding to make it compatible with spatialdata-io\n",
    "    all_concat.to_parquet(folder + '/cell_boundaries.parquet')\n",
    "    \n",
    "    count_path = f\"{folder}/cell_by_gene.csv\"\n",
    "    obs_path = f\"{folder}/cell_metadata.csv\"\n",
    "\n",
    "    data = pd.read_csv(count_path, index_col=0)\n",
    "    obs = pd.read_csv(obs_path, index_col=0)\n",
    "\n",
    "    data.index = obs.index.astype(str) # data index in old software is range(n_obs)\n",
    "    data.index.name = \"cell\" # renaming to make it compatible with spatialdata-io\n",
    "    obs.index.name = 'EntityID' # renaming to make it compatible with spatialdata-io\n",
    "    data.to_csv(count_path)\n",
    "    obs.to_csv(obs_path)"
   ]
  },
  {
   "cell_type": "code",
   "execution_count": null,
   "id": "8a9a0b1a",
   "metadata": {},
   "outputs": [],
   "source": [
    "read_boundary_hdf5('/external_data/other/Vizgen_redownload/HumanLiverCancerPatient1/')\n",
    "read_boundary_hdf5('/external_data/other/Vizgen_redownload/HumanLiverCancerPatient2/')"
   ]
  },
  {
   "cell_type": "code",
   "execution_count": null,
   "id": "2ec2ba53",
   "metadata": {},
   "outputs": [],
   "source": [
    "liver_vizgen_2 = spatialdata_io.merscope('/external_data/other/Vizgen_redownload/HumanLiverCancerPatient2/')\n"
   ]
  },
  {
   "cell_type": "code",
   "execution_count": null,
   "id": "9bc3cad9",
   "metadata": {},
   "outputs": [],
   "source": [
    "liver_vizgen_1 = spatialdata_io.merscope('/external_data/other/Vizgen_redownload/HumanLiverCancerPatient1/')"
   ]
  },
  {
   "cell_type": "markdown",
   "id": "51a21532",
   "metadata": {},
   "source": [
    "## ProSeg segmentation"
   ]
  },
  {
   "cell_type": "code",
   "execution_count": null,
   "id": "ca7405c1",
   "metadata": {},
   "outputs": [],
   "source": [
    "%%bash\n",
    "\n",
    "proseg detected_transcripts_cellpose.csv --merscope   "
   ]
  },
  {
   "cell_type": "markdown",
   "id": "26ea3356",
   "metadata": {},
   "source": [
    "## Baysor Segmentation"
   ]
  },
  {
   "cell_type": "code",
   "execution_count": 4,
   "id": "90c1e342",
   "metadata": {},
   "outputs": [],
   "source": [
    "import pandas as pd"
   ]
  },
  {
   "cell_type": "code",
   "execution_count": 5,
   "id": "2e019e4d-16e9-494b-a56b-f21f74289406",
   "metadata": {},
   "outputs": [],
   "source": [
    "tx_file = pd.read_csv('/external_data/other/Vizgen_redownload/HumanLiverCancerPatient2/cellpose_triple_zlayer/detected_transcripts.csv')"
   ]
  },
  {
   "cell_type": "code",
   "execution_count": 6,
   "id": "28aaa759-54e5-46a9-a48a-0ab01ec13e90",
   "metadata": {},
   "outputs": [],
   "source": [
    "tx_file['fov_coarse'] = tx_file['fov'] // 10"
   ]
  },
  {
   "cell_type": "code",
   "execution_count": 7,
   "id": "172fdfa0-dc8d-4cfd-966b-2eb3abd3294b",
   "metadata": {},
   "outputs": [],
   "source": [
    "fov_list = tx_file['fov_coarse'].unique()"
   ]
  },
  {
   "cell_type": "code",
   "execution_count": 8,
   "id": "8463e6ec-15ff-4346-b01e-e88b743e024a",
   "metadata": {},
   "outputs": [
    {
     "data": {
      "text/html": [
       "<div>\n",
       "<style scoped>\n",
       "    .dataframe tbody tr th:only-of-type {\n",
       "        vertical-align: middle;\n",
       "    }\n",
       "\n",
       "    .dataframe tbody tr th {\n",
       "        vertical-align: top;\n",
       "    }\n",
       "\n",
       "    .dataframe thead th {\n",
       "        text-align: right;\n",
       "    }\n",
       "</style>\n",
       "<table border=\"1\" class=\"dataframe\">\n",
       "  <thead>\n",
       "    <tr style=\"text-align: right;\">\n",
       "      <th></th>\n",
       "      <th>Unnamed: 0</th>\n",
       "      <th>barcode_id</th>\n",
       "      <th>global_x</th>\n",
       "      <th>global_y</th>\n",
       "      <th>global_z</th>\n",
       "      <th>x</th>\n",
       "      <th>y</th>\n",
       "      <th>fov</th>\n",
       "      <th>gene</th>\n",
       "      <th>transcript_id</th>\n",
       "      <th>cell_id</th>\n",
       "      <th>fov_coarse</th>\n",
       "    </tr>\n",
       "  </thead>\n",
       "  <tbody>\n",
       "    <tr>\n",
       "      <th>0</th>\n",
       "      <td>107</td>\n",
       "      <td>0</td>\n",
       "      <td>6011.7544</td>\n",
       "      <td>17.578049</td>\n",
       "      <td>0.0</td>\n",
       "      <td>104.39474</td>\n",
       "      <td>162.75972</td>\n",
       "      <td>0</td>\n",
       "      <td>PDK4</td>\n",
       "      <td>ENST00000005178</td>\n",
       "      <td>2586372800021100015</td>\n",
       "      <td>0</td>\n",
       "    </tr>\n",
       "    <tr>\n",
       "      <th>1</th>\n",
       "      <td>253</td>\n",
       "      <td>0</td>\n",
       "      <td>6043.4150</td>\n",
       "      <td>29.064754</td>\n",
       "      <td>0.0</td>\n",
       "      <td>397.54468</td>\n",
       "      <td>269.11810</td>\n",
       "      <td>0</td>\n",
       "      <td>PDK4</td>\n",
       "      <td>ENST00000005178</td>\n",
       "      <td>2586372800021100023</td>\n",
       "      <td>0</td>\n",
       "    </tr>\n",
       "    <tr>\n",
       "      <th>2</th>\n",
       "      <td>447</td>\n",
       "      <td>0</td>\n",
       "      <td>6022.8360</td>\n",
       "      <td>41.203010</td>\n",
       "      <td>0.0</td>\n",
       "      <td>207.00000</td>\n",
       "      <td>381.50937</td>\n",
       "      <td>0</td>\n",
       "      <td>PDK4</td>\n",
       "      <td>ENST00000005178</td>\n",
       "      <td>2586372800021100031</td>\n",
       "      <td>0</td>\n",
       "    </tr>\n",
       "    <tr>\n",
       "      <th>3</th>\n",
       "      <td>654</td>\n",
       "      <td>0</td>\n",
       "      <td>6041.3940</td>\n",
       "      <td>53.028000</td>\n",
       "      <td>0.0</td>\n",
       "      <td>378.83395</td>\n",
       "      <td>491.00000</td>\n",
       "      <td>0</td>\n",
       "      <td>PDK4</td>\n",
       "      <td>ENST00000005178</td>\n",
       "      <td>2586372800021100042</td>\n",
       "      <td>0</td>\n",
       "    </tr>\n",
       "    <tr>\n",
       "      <th>4</th>\n",
       "      <td>1248</td>\n",
       "      <td>0</td>\n",
       "      <td>6077.3930</td>\n",
       "      <td>76.299280</td>\n",
       "      <td>0.0</td>\n",
       "      <td>712.15625</td>\n",
       "      <td>706.47473</td>\n",
       "      <td>0</td>\n",
       "      <td>PDK4</td>\n",
       "      <td>ENST00000005178</td>\n",
       "      <td>2586372800021100059</td>\n",
       "      <td>0</td>\n",
       "    </tr>\n",
       "  </tbody>\n",
       "</table>\n",
       "</div>"
      ],
      "text/plain": [
       "   Unnamed: 0  barcode_id   global_x   global_y  global_z          x  \\\n",
       "0         107           0  6011.7544  17.578049       0.0  104.39474   \n",
       "1         253           0  6043.4150  29.064754       0.0  397.54468   \n",
       "2         447           0  6022.8360  41.203010       0.0  207.00000   \n",
       "3         654           0  6041.3940  53.028000       0.0  378.83395   \n",
       "4        1248           0  6077.3930  76.299280       0.0  712.15625   \n",
       "\n",
       "           y  fov  gene    transcript_id              cell_id  fov_coarse  \n",
       "0  162.75972    0  PDK4  ENST00000005178  2586372800021100015           0  \n",
       "1  269.11810    0  PDK4  ENST00000005178  2586372800021100023           0  \n",
       "2  381.50937    0  PDK4  ENST00000005178  2586372800021100031           0  \n",
       "3  491.00000    0  PDK4  ENST00000005178  2586372800021100042           0  \n",
       "4  706.47473    0  PDK4  ENST00000005178  2586372800021100059           0  "
      ]
     },
     "execution_count": 8,
     "metadata": {},
     "output_type": "execute_result"
    }
   ],
   "source": [
    "tx_file.head()"
   ]
  },
  {
   "cell_type": "code",
   "execution_count": 9,
   "id": "626cd111",
   "metadata": {},
   "outputs": [],
   "source": [
    "tx_file['cellID'] = tx_file['cell_id'].astype('category')\n",
    "tx_file['cellID'] = tx_file['cellID'].cat.codes"
   ]
  },
  {
   "cell_type": "code",
   "execution_count": null,
   "id": "b9834fb6",
   "metadata": {},
   "outputs": [],
   "source": [
    "for i in tx_file['fov_coarse'].unique():\n",
    "    tx_file[tx_file['fov_coarse']==i].to_csv(f'/external_data/other/Vizgen_redownload/HumanLiverCancerPatient2/cellpose_triple_zlayer/baysor_segmentation/liver_cancer_patient2_fov_{i}.csv')"
   ]
  },
  {
   "cell_type": "code",
   "execution_count": 20,
   "id": "11be2b21",
   "metadata": {},
   "outputs": [],
   "source": [
    "for i in tx_file['fov_coarse'].unique():\n",
    "    tx_file[tx_file['fov_coarse']==i].to_csv(f'/external_data/other/Vizgen_redownload/HumanLiverCancerPatient1/cellpose_triple_zlayer/baysor_segmentation/liver_cancer_patient1_fov_{i}.csv')"
   ]
  },
  {
   "cell_type": "code",
   "execution_count": 12,
   "id": "2d3267fb-ef46-4e78-bd63-c43072b79c89",
   "metadata": {},
   "outputs": [
    {
     "data": {
      "text/plain": [
       "'0 1 2 3 4 5 6 7 8 9 10 11 12 13 14 15 16 17 18 19 20 21 22 23 24 25 26 27 28 29 30 31 32 33 34 35 36 37 38 39 40 41 42 43 44 45 46 47 48 49 50 51 52 53 54 55 56 57 58 59 60 61 62 63 64 65 66 67 68 69 70 71 72 73 74 75 76 77 78 79 80 81 82 83 84 85 86 87 88 89 90 91 92 93 94 95 96 97 98 99 100 101 102 103 104 105 106 107 108 109 110 111 112 113 114 115 116 117 118 119 120 121 122 123 124 125 126 127 128 129 130 131 132 133 134 135 136 137 138 139 140 141 142 143 144 145 146 147 148 149 150 151 152 153 154 155 156 157 158 159 160 161 162 163 164 165 166 167 168 169 170 171 172 173 174 175 176 177 178 179 180 181 182 183 184 185 186 187 188 189 190 191 192 193 194 195 196 197 198 199 200 201 202 203 204 205 206 207 208 209 210 211 212 213 214 215 216 217 218 219 220 221 222 223 224 225 226 227 228 229 230 231 232 233 234 235 236 237 238 239 240 241 242 243 244 245 246 247 248 249 250 251'"
      ]
     },
     "execution_count": 12,
     "metadata": {},
     "output_type": "execute_result"
    }
   ],
   "source": [
    "' '.join(fov_list.astype(str))"
   ]
  },
  {
   "cell_type": "code",
   "execution_count": null,
   "id": "83ba5f77",
   "metadata": {},
   "outputs": [],
   "source": [
    "%%bash\n",
    "\n",
    "cd /external_data/other/Vizgen_redownload/HumanLiverCancerPatient2/baysor_segmentation\n",
    "N=5\n",
    "docker run -it -v /home/cane:/home/cane --rm vpetukhov/baysor:master\n",
    "(\n",
    "for VARIABLE in 0 1 2 3 4 5 6 7 8 9 10 11 12 13 14 15 16 17 18 19 20 21 22 23 24 25 26 27 28 29 30 31 32 33 34 35 36 37 38 39 40 41 42 43 44 45 46 47 48 49 50 51 52 53 54 55 56 57 58 59 60 61 62 63 64 65 66 67 68 69 70 71 72 73 74 75 76 77 78 79 80 81 82 83 84 85 86 87 88 89 90 91 92 93 94 95 96 97 98 99 100 101 102 103 104 105 106 107 108 109 110 111 112 113 114 115 116 117 118 119 120 121 122 123 124 125 126 127 128 129 130 131 132 133 134 135 136 137 138 139 140 141 142 143 144 145 146 147 148 149 150 151 152 153 154 155 156 157 158 159 160 161 162 163 164 165 166 167 168 169 170 171 172 173 174 175 176 177 178 179 180 181 182 183 184 185 186 187 188 189 190 191 192 193 194 195 196 197 198 199 200 201 202 203 204 205 206 207 208 209 210 211 212 213 214 215 216 217 218 219 220 221 222 223 224 225 226 227 228 229 230 231 232 233 234 235 236 237 238 239 240 241 242 243 244 245 246 247 248 249 250; do\n",
    "    ((i=i%N)); ((i++==0)) && wait\n",
    "    baysor run -x global_x -y global_y -z global_z --gene gene liver_cancer_patient2_fov_$VARIABLE.csv  :cellID -o segmentation_m50_fov_$VARIABLE.csv -c config.toml --save-polygons=geojson --plot &  done\n",
    ")"
   ]
  },
  {
   "cell_type": "code",
   "execution_count": null,
   "id": "0117b08c",
   "metadata": {},
   "outputs": [],
   "source": [
    "%%bash\n",
    "\n",
    "cd /external_data/other/Vizgen_redownload/HumanLiverCancerPatient1/baysor\n",
    "N=5\n",
    "docker run -it -v /home/cane:/home/cane --rm vpetukhov/baysor:master\n",
    "(\n",
    "for VARIABLE in 0 1 2 3 4 5 6 7 8 9 10 11 12 13 14 15 16 17 18 19 20 21 22 23 24 25 26 27 28 29 30 31 32 33 34 35 36 37 38 39 40 41 42 43 44 45 46 47 48 49 50 51 52 53 54 55 56 57 58 59 60 61 62 63 64 65 66 67 68 69 70 71 72 73 74 75 76 77 78 79 80 81 82 83 84 85 86 87 88 89 90 91 92 93 94 95 96 97 98 99 100 101 102 103 104 105 106 107 108 109 110 111 112 113 114 115 116 117 118 119 120 121 122 123 124 125 126 127 128 129 130 131 132 133 134 135 136 137 138 139 140 141 142 143 144 145 146 147 148 149 150 151 152 153 154 155 156 157 158 159 160 161 162 163 164 165 166 167 168 169 170 171 172 173 174 175 176 177 178 179 180 181 182 183 184 185 186 187 188 189 190 191 192 193 194 195 196 197 198 199 200 201 202 203 204 205 206 207 208 209 210 211 212 213 214 215 216 217 218 219 220 221 222 223 224 225 226 227 228 229 230 231 232 233 234 235 236 237 238 239 240 241 242 243 244 245 246 247 248 249 250 251; do\n",
    "    ((i=i%N)); ((i++==0)) && wait\n",
    "    baysor run -x global_x -y global_y -z global_z --gene gene liver_cancer_patient1_fov_$VARIABLE.csv :cellID -o segmentation_m50_fov_$VARIABLE.csv -c config.toml --save-polygons=geojson --plot &  done\n",
    ")"
   ]
  },
  {
   "cell_type": "markdown",
   "id": "ad5d168b",
   "metadata": {},
   "source": [
    "## Vizgen postprocessing tool segmentation\n",
    "\n",
    "We used as input json files the following all download from the original repo\n",
    "\n",
    "/data/yosef3/users/can/Vizgen_resegmentation/vizgen-postprocessing/example_analysis_algorithm/cellpose_default_3_ZLevel_nuclei_only.json\n",
    "/data/yosef3/users/can/Vizgen_resegmentation/vizgen-postprocessing/example_analysis_algorithm/cellpose_default_1_ZLevel.json\n",
    "/data/yosef3/users/can/Vizgen_resegmentation/vizgen-postprocessing/example_analysis_algorithm/cellpose_default_3_ZLevel.json"
   ]
  },
  {
   "cell_type": "code",
   "execution_count": null,
   "id": "38066de6",
   "metadata": {},
   "outputs": [],
   "source": [
    "%%bash\n",
    "\n",
    "vpt --verbose --processes 4 run-segmentation \\\n",
    "--segmentation-algorithm /data/yosef3/users/can/Vizgen_resegmentation/vizgen-postprocessing/example_analysis_algorithm/cellpose_default_3_ZLevel_nuclei_only.json \\\n",
    "--input-images=\"images/mosaic_(?P<stain>[\\w|-]+)_z(?P<z>[0-9]+).tif\" \\\n",
    "--input-micron-to-mosaic images/micron_to_mosaic_pixel_transform.csv \\\n",
    "--output-path resegmentation_vizgen_patient1 \\\n",
    "--tile-size 2400 \\\n",
    "--tile-overlap 200"
   ]
  }
 ],
 "metadata": {
  "kernelspec": {
   "display_name": "resolvi_new",
   "language": "python",
   "name": "python3"
  },
  "language_info": {
   "codemirror_mode": {
    "name": "ipython",
    "version": 3
   },
   "file_extension": ".py",
   "mimetype": "text/x-python",
   "name": "python",
   "nbconvert_exporter": "python",
   "pygments_lexer": "ipython3",
   "version": "3.10.0"
  }
 },
 "nbformat": 4,
 "nbformat_minor": 5
}
