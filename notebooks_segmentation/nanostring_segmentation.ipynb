{
 "cells": [
  {
   "cell_type": "markdown",
   "id": "2ca3d2ba",
   "metadata": {},
   "source": [
    "# Custom segmentation Nanostring data\n",
    "\n",
    "We here provide commands to segment Nanostring data into the different segmentations. Raw data can be accessed via Nanostring. If data is not available there anymore, raw data can be requested with the corresponding authors.\n",
    "This notebook is not intended to be executed but rather is a collection of batch commands to execute segmentation and provides the commands used by us."
   ]
  },
  {
   "cell_type": "code",
   "execution_count": 2,
   "id": "c802bb28-2d23-44b3-9754-26018d5ea7e1",
   "metadata": {},
   "outputs": [],
   "source": [
    "import pandas as pd\n",
    "import numpy as np"
   ]
  },
  {
   "cell_type": "markdown",
   "id": "c6078895",
   "metadata": {},
   "source": [
    "## Baysor"
   ]
  },
  {
   "cell_type": "code",
   "execution_count": 6,
   "id": "c45fa97d",
   "metadata": {},
   "outputs": [],
   "source": [
    "all_file = pd.read_parquet('all_coordinates_sub.parquet', columns=['slideID', 'fov', 'z_FOV_slice', 'target', 'CellId', 'cell_id', 'CellComp', 'x', 'y'])"
   ]
  },
  {
   "cell_type": "code",
   "execution_count": 3,
   "id": "4d2b6cad",
   "metadata": {},
   "outputs": [],
   "source": [
    "all_file['z'] = 0.0015 * all_file['z_FOV_slice']\n",
    "all_file['cell_id_int'] = all_file['cell_id'].astype('category').cat.codes\n",
    "all_file['cell_id_int'] += 1\n",
    "all_file.loc[all_file['CellId']==0, 'cell_id_int'] = 0\n",
    "all_file = all_file.rename(columns={'cell_id': 'cell_ID'})"
   ]
  },
  {
   "cell_type": "code",
   "execution_count": null,
   "id": "41420447",
   "metadata": {},
   "outputs": [],
   "source": [
    "all_file.to_parquet('all_coordinates_processed.parquet')"
   ]
  },
  {
   "cell_type": "code",
   "execution_count": 8,
   "id": "54c64f83",
   "metadata": {},
   "outputs": [],
   "source": [
    "import os\n",
    "os.mkdir('baysor_transcripts')\n",
    "os.mkdir('baysor_transcripts/normal')\n",
    "os.mkdir('baysor_transcripts/cancer')"
   ]
  },
  {
   "cell_type": "code",
   "execution_count": 3,
   "id": "6bf0cb58",
   "metadata": {},
   "outputs": [],
   "source": [
    "all_file = pd.read_parquet('all_coordinates_processed.parquet')"
   ]
  },
  {
   "cell_type": "code",
   "execution_count": 4,
   "id": "5018f04a",
   "metadata": {},
   "outputs": [
    {
     "data": {
      "text/html": [
       "<div>\n",
       "<style scoped>\n",
       "    .dataframe tbody tr th:only-of-type {\n",
       "        vertical-align: middle;\n",
       "    }\n",
       "\n",
       "    .dataframe tbody tr th {\n",
       "        vertical-align: top;\n",
       "    }\n",
       "\n",
       "    .dataframe thead th {\n",
       "        text-align: right;\n",
       "    }\n",
       "</style>\n",
       "<table border=\"1\" class=\"dataframe\">\n",
       "  <thead>\n",
       "    <tr style=\"text-align: right;\">\n",
       "      <th></th>\n",
       "      <th>slideID</th>\n",
       "      <th>fov</th>\n",
       "      <th>z_FOV_slice</th>\n",
       "      <th>target</th>\n",
       "      <th>CellId</th>\n",
       "      <th>cell_ID</th>\n",
       "      <th>CellComp</th>\n",
       "      <th>x</th>\n",
       "      <th>y</th>\n",
       "      <th>z</th>\n",
       "      <th>cell_id_int</th>\n",
       "    </tr>\n",
       "  </thead>\n",
       "  <tbody>\n",
       "    <tr>\n",
       "      <th>0</th>\n",
       "      <td>1</td>\n",
       "      <td>12</td>\n",
       "      <td>6</td>\n",
       "      <td>PTK2</td>\n",
       "      <td>19</td>\n",
       "      <td>c_1_12_19</td>\n",
       "      <td>Cytoplasm</td>\n",
       "      <td>17872.479992</td>\n",
       "      <td>-455.92</td>\n",
       "      <td>9.0</td>\n",
       "      <td>34546</td>\n",
       "    </tr>\n",
       "    <tr>\n",
       "      <th>1</th>\n",
       "      <td>1</td>\n",
       "      <td>4</td>\n",
       "      <td>7</td>\n",
       "      <td>APOA1</td>\n",
       "      <td>3</td>\n",
       "      <td>c_1_4_3</td>\n",
       "      <td>Cytoplasm</td>\n",
       "      <td>21908.919968</td>\n",
       "      <td>-455.92</td>\n",
       "      <td>10.5</td>\n",
       "      <td>268176</td>\n",
       "    </tr>\n",
       "    <tr>\n",
       "      <th>2</th>\n",
       "      <td>1</td>\n",
       "      <td>4</td>\n",
       "      <td>6</td>\n",
       "      <td>TPT1</td>\n",
       "      <td>3</td>\n",
       "      <td>c_1_4_3</td>\n",
       "      <td>Cytoplasm</td>\n",
       "      <td>21896.919964</td>\n",
       "      <td>-455.92</td>\n",
       "      <td>9.0</td>\n",
       "      <td>268176</td>\n",
       "    </tr>\n",
       "    <tr>\n",
       "      <th>3</th>\n",
       "      <td>1</td>\n",
       "      <td>8</td>\n",
       "      <td>7</td>\n",
       "      <td>APOA1</td>\n",
       "      <td>26</td>\n",
       "      <td>c_1_8_26</td>\n",
       "      <td>Nuclear</td>\n",
       "      <td>19820.279952</td>\n",
       "      <td>-455.92</td>\n",
       "      <td>10.5</td>\n",
       "      <td>317649</td>\n",
       "    </tr>\n",
       "    <tr>\n",
       "      <th>4</th>\n",
       "      <td>1</td>\n",
       "      <td>6</td>\n",
       "      <td>3</td>\n",
       "      <td>TPT1</td>\n",
       "      <td>7</td>\n",
       "      <td>c_1_6_7</td>\n",
       "      <td>Cytoplasm</td>\n",
       "      <td>20828.519946</td>\n",
       "      <td>-455.92</td>\n",
       "      <td>4.5</td>\n",
       "      <td>292932</td>\n",
       "    </tr>\n",
       "  </tbody>\n",
       "</table>\n",
       "</div>"
      ],
      "text/plain": [
       "   slideID  fov  z_FOV_slice target  CellId    cell_ID   CellComp  \\\n",
       "0        1   12            6   PTK2      19  c_1_12_19  Cytoplasm   \n",
       "1        1    4            7  APOA1       3    c_1_4_3  Cytoplasm   \n",
       "2        1    4            6   TPT1       3    c_1_4_3  Cytoplasm   \n",
       "3        1    8            7  APOA1      26   c_1_8_26    Nuclear   \n",
       "4        1    6            3   TPT1       7    c_1_6_7  Cytoplasm   \n",
       "\n",
       "              x       y     z  cell_id_int  \n",
       "0  17872.479992 -455.92   9.0        34546  \n",
       "1  21908.919968 -455.92  10.5       268176  \n",
       "2  21896.919964 -455.92   9.0       268176  \n",
       "3  19820.279952 -455.92  10.5       317649  \n",
       "4  20828.519946 -455.92   4.5       292932  "
      ]
     },
     "execution_count": 4,
     "metadata": {},
     "output_type": "execute_result"
    }
   ],
   "source": [
    "all_file[['x', 'y', 'z']] = 1000 * all_file[['x', 'y', 'z']]\n",
    "all_file.head()"
   ]
  },
  {
   "cell_type": "code",
   "execution_count": 5,
   "id": "86ad3071-c174-4637-a3f8-525df3c299db",
   "metadata": {
    "tags": []
   },
   "outputs": [],
   "source": [
    "fov_dict = {}\n",
    "for slide in all_file['slideID'].unique():\n",
    "    if slide == 1:\n",
    "        folder = 'normal'\n",
    "        continue\n",
    "    elif slide == 2:\n",
    "        folder = 'cancer'\n",
    "    else:\n",
    "        print(f'{slide} unknown continuing with next fov')\n",
    "        continue\n",
    "    current = all_file[all_file['slideID']==slide]\n",
    "    fov_dict[folder] = current['fov'].unique()\n",
    "    for fov in fov_dict[folder]:\n",
    "        current[current['fov']==fov].to_csv(f'baysor_transcripts/{folder}/nanostring_liver_{folder}_{fov}.csv')"
   ]
  },
  {
   "cell_type": "code",
   "execution_count": null,
   "id": "2d3267fb-ef46-4e78-bd63-c43072b79c89",
   "metadata": {},
   "outputs": [
    {
     "data": {
      "text/plain": [
       "'12 4 8 6 3 15 10 7 14 11 9 2 1 13 5 18 19 23 20 25 26 28 30 16 29 17 27 24 31 22 21 38 41 34 40 37 39 36 35 46 44 32 45 43 33 47 42 58 51 62 59 56 53 52 50 57 54 49 61 48 55 60 76 66 71 75 78 74 65 69 77 67 70 68 73 72 64 87 81 91 90 79 89 92 86 80 83 82 85 88 93 84 100 97 104 99 96 101 94 95 98 107 102 105 103 106 118 108 122 123 110 111 117 112 115 119 120 114 109 121 113 116 131 133 124 135 125 132 139 134 130 140 128 136 141 129 126 127 138 137 147 156 155 142 157 149 151 146 153 143 144 152 150 154 145 148 167 160 164 163 158 166 168 170 159 162 171 165 172 161 169 184 175 178 176 181 189 177 179 174 185 188 173 180 183 182 187 186 205 193 198 197 204 199 200 196 191 202 201 206 194 195 207 203 192 190 224 218 220 223 209 213 216 219 222 215 210 214 221 208 225 212 211 217 236 234 231 233 226 232 237 235 230 238 241 227 228 242 239 240 229 258 251 247 252 246 245 253 257 256 243 248 244 249 255 250 254 261 265 273 259 264 269 260 262 272 270 267 268 274 271 263 266 285 286 281 288 275 277 283 276 280 282 279 278 284 287 293 304 298 294 302 289 295 291 292 296 297 299 290 301'"
      ]
     },
     "execution_count": 11,
     "metadata": {},
     "output_type": "execute_result"
    }
   ],
   "source": [
    "' '.join(fov_dict['normal'].astype(str))"
   ]
  },
  {
   "cell_type": "code",
   "execution_count": null,
   "id": "89de8cf8-c26a-4e37-bea8-6db45b7a56c7",
   "metadata": {},
   "outputs": [
    {
     "data": {
      "text/plain": [
       "'4 5 3 1 2 7 9 6 10 12 11 8 13 17 18 16 19 14 20 15 21 24 23 22 25 26 29 28 30 33 27 32 31 35 38 39 40 34 36 37 44 42 45 43 46 47 41 48 55 54 53 52 51 50 49 60 58 59 56 57 61 62 68 65 64 63 69 66 67 70 73 75 72 74 71 79 76 78 77 82 81 80 86 85 89 83 88 84 87 92 96 93 94 91 95 90 99 98 102 101 100 97 103 107 108 106 105 104 109 110 114 115 117 113 111 112 116 121 122 119 123 118 120 124 125 127 128 126 129 131 130 134 137 133 136 135 138 132 143 139 140 141 145 144 142 147 146 151 148 149 150 152 157 154 158 153 156 155 159 163 160 161 165 162 166 164 167 169 168 172 173 170 174 171 179 178 180 177 176 175 190 181 189 188 191 182 184 183 185 187 186 198 194 196 192 193 197 195 202 200 204 205 201 199 203 206 212 211 207 210 213 208 209 214 215 216 221 219 218 220 217 222 223 230 227 226 228 224 225 229 232 234 238 233 237 236 231 235 239 245 241 240 244 242 243 247 248 246 250 252 249 251 259 257 254 260 253 258 256 255 265 262 263 267 261 266 264 270 269 274 273 268 272 271 275 277 281 282 280 279 278 276 283 285 290 289 287 286 288 284 292 297 295 296 298 293 299 294 291 305 303 304 302 306 301 300 311 313 308 314 312 310 307 309 323 320 321 316 315 322 324 317 318 319 334 332 331 329 328 325 330 326 327 333 344 343 345 339 335 337 341 342 340 336 338 360 359 353 348 351 356 355 350 349 352 354 358 346 347 357 362 376 361 370 365 375 374 377 373 364 372 367 366 368 371 369 363 379 381 383 380 378 382'"
      ]
     },
     "execution_count": 12,
     "metadata": {},
     "output_type": "execute_result"
    }
   ],
   "source": [
    "' '.join(fov_dict['cancer'].astype(str))"
   ]
  },
  {
   "cell_type": "code",
   "execution_count": null,
   "id": "3b4567a3",
   "metadata": {},
   "outputs": [],
   "source": [
    "all_file.to_parquet('all_coordinates_processed.parquet')"
   ]
  },
  {
   "cell_type": "code",
   "execution_count": 8,
   "id": "25bcdb05",
   "metadata": {},
   "outputs": [],
   "source": [
    "all_file[all_file['slideID']==1].to_csv('proseg_healthy/coordinates_healthy.csv')\n",
    "all_file[all_file['slideID']==2].to_csv('proseg_cancer/coordinates_cancer.csv')"
   ]
  },
  {
   "cell_type": "code",
   "execution_count": null,
   "id": "afc2a40b-9e53-425d-a914-1bc6bd46189d",
   "metadata": {},
   "outputs": [],
   "source": [
    "%%bash\n",
    "\n",
    "docker run -it -v /home/cane:/home/cane --rm vpetukhov/baysor:master\n",
    "N=8\n",
    "(\n",
    "for VARIABLE in 12 4 8 6 3 15 10 7 14 11 9 2 1 13 5 18 19 23 20 25 26 28 30 16 29 17 27 24 31 22 21 38 41 34 40 37 39 36 35 46 44 32 45 43 33 47 42 58 51 62 59 56 53 52 50 57 54 49 61 48 55 60 76 66 71 75 78 74 65 69 77 67 70 68 73 72 64 87 81 91 90 79 89 92 86 80 83 82 85 88 93 84 100 97 104 99 96 101 94 95 98 107 102 105 103 106 118 108 122 123 110 111 117 112 115 119 120 114 109 121 113 116 131 133 124 135 125 132 139 134 130 140 128 136 141 129 126 127 138 137 147 156 155 142 157 149 151 146 153 143 144 152 150 154 145 148 167 160 164 163 158 166 168 170 159 162 171 165 172 161 169 184 175 178 176 181 189 177 179 174 185 188 173 180 183 182 187 186 205 193 198 197 204 199 200 196 191 202 201 206 194 195 207 203 192 190 224 218 220 223 209 213 216 219 222 215 210 214 221 208 225 212 211 217 236 234 231 233 226 232 237 235 230 238 241 227 228 242 239 240 229 258 251 247 252 246 245 253 257 256 243 248 244 249 255 250 254 261 265 273 259 264 269 260 262 272 270 267 268 274 271 263 266 285 286 281 288 275 277 283 276 280 282 279 278 284 287 293 304 298 294 302 289 295 291 292 296 297 299 290 301; do\n",
    "    ((i=i%N)); ((i++==0)) && wait\n",
    "    baysor run -x x -y y -z z --gene target nanostring_liver_normal_$VARIABLE.csv :cell_id_int -o segmentation_m50_fov_$VARIABLE.csv -p -c config.toml --plot --save-polygons=geojson &  done\n",
    ")"
   ]
  },
  {
   "cell_type": "markdown",
   "id": "a2a9353d",
   "metadata": {},
   "source": [
    "## ProSeg"
   ]
  },
  {
   "cell_type": "code",
   "execution_count": null,
   "id": "4baad3de",
   "metadata": {},
   "outputs": [],
   "source": [
    "%%bash\n",
    "\n",
    "proseg cancer_tx_file.csv --cosmx; cd ..; proseg normal_tx_file.csv --cosmx"
   ]
  }
 ],
 "metadata": {
  "kernelspec": {
   "display_name": "resolvi_new",
   "language": "python",
   "name": "python3"
  },
  "language_info": {
   "codemirror_mode": {
    "name": "ipython",
    "version": 3
   },
   "file_extension": ".py",
   "mimetype": "text/x-python",
   "name": "python",
   "nbconvert_exporter": "python",
   "pygments_lexer": "ipython3",
   "version": "3.10.0"
  }
 },
 "nbformat": 4,
 "nbformat_minor": 5
}
